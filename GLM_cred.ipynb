{
 "cells": [
  {
   "cell_type": "code",
   "execution_count": 1,
   "metadata": {
    "collapsed": false
   },
   "outputs": [
    {
     "name": "stdout",
     "output_type": "stream",
     "text": [
      "Couldn't import dot_parser, loading of dot files will not be possible.\n",
      "CPU times: user 1.41 s, sys: 427 ms, total: 1.84 s\n",
      "Wall time: 2.28 s\n"
     ]
    }
   ],
   "source": [
    "%%time\n",
    "import pandas as pd\n",
    "import numpy as np\n",
    "import pymc3 as mc"
   ]
  },
  {
   "cell_type": "code",
   "execution_count": 2,
   "metadata": {
    "collapsed": false
   },
   "outputs": [
    {
     "data": {
      "text/html": [
       "<div>\n",
       "<table border=\"1\" class=\"dataframe\">\n",
       "  <thead>\n",
       "    <tr style=\"text-align: right;\">\n",
       "      <th></th>\n",
       "      <th>id2</th>\n",
       "      <th>IM_MAX_SDO_MEDIO_12M</th>\n",
       "      <th>IM_PROM_HIPOTECA_12M</th>\n",
       "      <th>IM_PROM_PREST_NOM_12M</th>\n",
       "      <th>IM_PROM_AUTO_12M</th>\n",
       "      <th>IM_PROM_PPIS_12M</th>\n",
       "      <th>IM_PROM_OTRO_12M</th>\n",
       "      <th>IM_PROM_CARTERA_12M</th>\n",
       "      <th>IM_PROM_SDO_CORTE_12M</th>\n",
       "      <th>IM_PROM_SDO_MEDIO_12M</th>\n",
       "      <th>...</th>\n",
       "      <th>TP_PERSONA</th>\n",
       "      <th>TP_DOMICILIO</th>\n",
       "      <th>CD_ESTADO</th>\n",
       "      <th>CD_EDO_CIVIL</th>\n",
       "      <th>CD_SEGMENTACION</th>\n",
       "      <th>CD_SEXO</th>\n",
       "      <th>CD_OCUPACION</th>\n",
       "      <th>CD_RESIDENCIA</th>\n",
       "      <th>TP_VIVIENDA_SEPO</th>\n",
       "      <th>contrata</th>\n",
       "    </tr>\n",
       "  </thead>\n",
       "  <tbody>\n",
       "    <tr>\n",
       "      <th>0</th>\n",
       "      <td>1</td>\n",
       "      <td>1100.00</td>\n",
       "      <td>0.0</td>\n",
       "      <td>0.000</td>\n",
       "      <td>0.0</td>\n",
       "      <td>0.0</td>\n",
       "      <td>0.0</td>\n",
       "      <td>0.0</td>\n",
       "      <td>0.00</td>\n",
       "      <td>1100.00</td>\n",
       "      <td>...</td>\n",
       "      <td>F</td>\n",
       "      <td>H</td>\n",
       "      <td>NL</td>\n",
       "      <td>C</td>\n",
       "      <td>R1</td>\n",
       "      <td>M</td>\n",
       "      <td>SER</td>\n",
       "      <td>MEX</td>\n",
       "      <td>NaN</td>\n",
       "      <td>0</td>\n",
       "    </tr>\n",
       "    <tr>\n",
       "      <th>1</th>\n",
       "      <td>5</td>\n",
       "      <td>22836.13</td>\n",
       "      <td>0.0</td>\n",
       "      <td>2445.065</td>\n",
       "      <td>0.0</td>\n",
       "      <td>0.0</td>\n",
       "      <td>0.0</td>\n",
       "      <td>0.0</td>\n",
       "      <td>2633.32</td>\n",
       "      <td>8718.87</td>\n",
       "      <td>...</td>\n",
       "      <td>F</td>\n",
       "      <td>H</td>\n",
       "      <td>DF</td>\n",
       "      <td>S</td>\n",
       "      <td>B1</td>\n",
       "      <td>M</td>\n",
       "      <td>MED</td>\n",
       "      <td>MEX</td>\n",
       "      <td>CASA</td>\n",
       "      <td>0</td>\n",
       "    </tr>\n",
       "    <tr>\n",
       "      <th>2</th>\n",
       "      <td>16</td>\n",
       "      <td>5936.92</td>\n",
       "      <td>0.0</td>\n",
       "      <td>90829.800</td>\n",
       "      <td>0.0</td>\n",
       "      <td>0.0</td>\n",
       "      <td>0.0</td>\n",
       "      <td>0.0</td>\n",
       "      <td>74654.69</td>\n",
       "      <td>1547.00</td>\n",
       "      <td>...</td>\n",
       "      <td>F</td>\n",
       "      <td>H</td>\n",
       "      <td>SI</td>\n",
       "      <td>C</td>\n",
       "      <td>F9</td>\n",
       "      <td>F</td>\n",
       "      <td>ASG</td>\n",
       "      <td>MEX</td>\n",
       "      <td>CASA</td>\n",
       "      <td>0</td>\n",
       "    </tr>\n",
       "    <tr>\n",
       "      <th>3</th>\n",
       "      <td>17</td>\n",
       "      <td>541013.76</td>\n",
       "      <td>0.0</td>\n",
       "      <td>0.000</td>\n",
       "      <td>0.0</td>\n",
       "      <td>0.0</td>\n",
       "      <td>0.0</td>\n",
       "      <td>0.0</td>\n",
       "      <td>0.00</td>\n",
       "      <td>498718.13</td>\n",
       "      <td>...</td>\n",
       "      <td>F</td>\n",
       "      <td>H</td>\n",
       "      <td>NaN</td>\n",
       "      <td>C</td>\n",
       "      <td>Q1</td>\n",
       "      <td>F</td>\n",
       "      <td>PEN</td>\n",
       "      <td>MEX</td>\n",
       "      <td>NaN</td>\n",
       "      <td>0</td>\n",
       "    </tr>\n",
       "    <tr>\n",
       "      <th>4</th>\n",
       "      <td>62</td>\n",
       "      <td>5059.81</td>\n",
       "      <td>0.0</td>\n",
       "      <td>0.000</td>\n",
       "      <td>0.0</td>\n",
       "      <td>0.0</td>\n",
       "      <td>0.0</td>\n",
       "      <td>0.0</td>\n",
       "      <td>0.00</td>\n",
       "      <td>2682.58</td>\n",
       "      <td>...</td>\n",
       "      <td>F</td>\n",
       "      <td>H</td>\n",
       "      <td>NL</td>\n",
       "      <td>C</td>\n",
       "      <td>B1</td>\n",
       "      <td>M</td>\n",
       "      <td>PEN</td>\n",
       "      <td>MEX</td>\n",
       "      <td>NaN</td>\n",
       "      <td>0</td>\n",
       "    </tr>\n",
       "  </tbody>\n",
       "</table>\n",
       "<p>5 rows × 92 columns</p>\n",
       "</div>"
      ],
      "text/plain": [
       "   id2  IM_MAX_SDO_MEDIO_12M  IM_PROM_HIPOTECA_12M  IM_PROM_PREST_NOM_12M  \\\n",
       "0    1               1100.00                   0.0                  0.000   \n",
       "1    5              22836.13                   0.0               2445.065   \n",
       "2   16               5936.92                   0.0              90829.800   \n",
       "3   17             541013.76                   0.0                  0.000   \n",
       "4   62               5059.81                   0.0                  0.000   \n",
       "\n",
       "   IM_PROM_AUTO_12M  IM_PROM_PPIS_12M  IM_PROM_OTRO_12M  IM_PROM_CARTERA_12M  \\\n",
       "0               0.0               0.0               0.0                  0.0   \n",
       "1               0.0               0.0               0.0                  0.0   \n",
       "2               0.0               0.0               0.0                  0.0   \n",
       "3               0.0               0.0               0.0                  0.0   \n",
       "4               0.0               0.0               0.0                  0.0   \n",
       "\n",
       "   IM_PROM_SDO_CORTE_12M  IM_PROM_SDO_MEDIO_12M    ...     TP_PERSONA  \\\n",
       "0                   0.00                1100.00    ...              F   \n",
       "1                2633.32                8718.87    ...              F   \n",
       "2               74654.69                1547.00    ...              F   \n",
       "3                   0.00              498718.13    ...              F   \n",
       "4                   0.00                2682.58    ...              F   \n",
       "\n",
       "   TP_DOMICILIO  CD_ESTADO  CD_EDO_CIVIL  CD_SEGMENTACION  CD_SEXO  \\\n",
       "0             H         NL             C               R1        M   \n",
       "1             H         DF             S               B1        M   \n",
       "2             H         SI             C               F9        F   \n",
       "3             H        NaN             C               Q1        F   \n",
       "4             H         NL             C               B1        M   \n",
       "\n",
       "   CD_OCUPACION  CD_RESIDENCIA  TP_VIVIENDA_SEPO  contrata  \n",
       "0           SER            MEX               NaN         0  \n",
       "1           MED            MEX              CASA         0  \n",
       "2           ASG            MEX              CASA         0  \n",
       "3           PEN            MEX               NaN         0  \n",
       "4           PEN            MEX               NaN         0  \n",
       "\n",
       "[5 rows x 92 columns]"
      ]
     },
     "execution_count": 2,
     "metadata": {},
     "output_type": "execute_result"
    }
   ],
   "source": [
    "df=pd.read_table('multivsamp.csv',sep=';')\n",
    "df.head()"
   ]
  },
  {
   "cell_type": "code",
   "execution_count": 3,
   "metadata": {
    "collapsed": false
   },
   "outputs": [],
   "source": [
    "df=df[['TP_SEGMENTO_FINAL2','contrata','TO_PROM_TO_CARGOS_3M','NU_VINC_COGNODATA','TO_NECESIDAD_FINAN_CAP_3M','IM_PROM_GASTOS_3M','IM_SUM_SDO_CORTE_1M']]"
   ]
  },
  {
   "cell_type": "code",
   "execution_count": null,
   "metadata": {
    "collapsed": false
   },
   "outputs": [],
   "source": []
  },
  {
   "cell_type": "code",
   "execution_count": null,
   "metadata": {
    "collapsed": false
   },
   "outputs": [],
   "source": []
  },
  {
   "cell_type": "code",
   "execution_count": 4,
   "metadata": {
    "collapsed": false
   },
   "outputs": [
    {
     "data": {
      "text/html": [
       "<div>\n",
       "<table border=\"1\" class=\"dataframe\">\n",
       "  <thead>\n",
       "    <tr style=\"text-align: right;\">\n",
       "      <th></th>\n",
       "      <th>TP_SEGMENTO_FINAL2</th>\n",
       "      <th>contrata</th>\n",
       "      <th>TO_PROM_TO_CARGOS_3M</th>\n",
       "      <th>NU_VINC_COGNODATA</th>\n",
       "      <th>TO_NECESIDAD_FINAN_CAP_3M</th>\n",
       "      <th>IM_PROM_GASTOS_3M</th>\n",
       "      <th>IM_SUM_SDO_CORTE_1M</th>\n",
       "    </tr>\n",
       "  </thead>\n",
       "  <tbody>\n",
       "    <tr>\n",
       "      <th>0</th>\n",
       "      <td>PAREJAS ADULTAS</td>\n",
       "      <td>0</td>\n",
       "      <td>0.000000</td>\n",
       "      <td>1</td>\n",
       "      <td>0.000000</td>\n",
       "      <td>0.000000</td>\n",
       "      <td>NaN</td>\n",
       "    </tr>\n",
       "    <tr>\n",
       "      <th>1</th>\n",
       "      <td>ADULTOS INDEPENDIENTES</td>\n",
       "      <td>0</td>\n",
       "      <td>8.333333</td>\n",
       "      <td>4</td>\n",
       "      <td>5.431283</td>\n",
       "      <td>115592.358890</td>\n",
       "      <td>1488.45</td>\n",
       "    </tr>\n",
       "    <tr>\n",
       "      <th>2</th>\n",
       "      <td>JOVEN PROFESIONAL</td>\n",
       "      <td>0</td>\n",
       "      <td>9.666667</td>\n",
       "      <td>14</td>\n",
       "      <td>544.893976</td>\n",
       "      <td>583913.833340</td>\n",
       "      <td>96112.75</td>\n",
       "    </tr>\n",
       "    <tr>\n",
       "      <th>3</th>\n",
       "      <td>RETIRADOS</td>\n",
       "      <td>0</td>\n",
       "      <td>16.666667</td>\n",
       "      <td>5</td>\n",
       "      <td>0.038541</td>\n",
       "      <td>18776.530000</td>\n",
       "      <td>NaN</td>\n",
       "    </tr>\n",
       "    <tr>\n",
       "      <th>4</th>\n",
       "      <td>RETIRADOS</td>\n",
       "      <td>0</td>\n",
       "      <td>1.000000</td>\n",
       "      <td>1</td>\n",
       "      <td>1.821699</td>\n",
       "      <td>7166.666667</td>\n",
       "      <td>NaN</td>\n",
       "    </tr>\n",
       "  </tbody>\n",
       "</table>\n",
       "</div>"
      ],
      "text/plain": [
       "       TP_SEGMENTO_FINAL2  contrata  TO_PROM_TO_CARGOS_3M  NU_VINC_COGNODATA  \\\n",
       "0         PAREJAS ADULTAS         0              0.000000                  1   \n",
       "1  ADULTOS INDEPENDIENTES         0              8.333333                  4   \n",
       "2       JOVEN PROFESIONAL         0              9.666667                 14   \n",
       "3               RETIRADOS         0             16.666667                  5   \n",
       "4               RETIRADOS         0              1.000000                  1   \n",
       "\n",
       "   TO_NECESIDAD_FINAN_CAP_3M  IM_PROM_GASTOS_3M  IM_SUM_SDO_CORTE_1M  \n",
       "0                   0.000000           0.000000                  NaN  \n",
       "1                   5.431283      115592.358890              1488.45  \n",
       "2                 544.893976      583913.833340             96112.75  \n",
       "3                   0.038541       18776.530000                  NaN  \n",
       "4                   1.821699        7166.666667                  NaN  "
      ]
     },
     "execution_count": 4,
     "metadata": {},
     "output_type": "execute_result"
    }
   ],
   "source": [
    "import pandas as pd\n",
    "import pymc3 as pm\n",
    "import matplotlib.pyplot as plt\n",
    "import numpy as np\n",
    "import theano.tensor as t\n",
    "from scipy.stats import mode\n",
    "def tinvlogit(x):\n",
    "    return t.exp(x) / (1 + t.exp(x))\n",
    "df.head()\n",
    "#df=pd.read_csv('/home/ryan/Documents/thads2013n.txt',sep=',') df=df[df['BURDEN']>0] df=df[df['AGE1']>0] df['OWN']=[1 if obj=='2' else 0 for obj in df['OWNRENT']]"
   ]
  },
  {
   "cell_type": "code",
   "execution_count": 5,
   "metadata": {
    "collapsed": false
   },
   "outputs": [],
   "source": [
    "%matplotlib inline\n",
    "df=df[df['TP_SEGMENTO_FINAL2'].isin(['ADULTO EN PLENITUD', 'ADULTOS INDEPENDIENTES', 'DIVORCIADO',\n",
    "       'HOGARES CON HIJOS',\n",
    "       'JOVEN PROFESIONAL', 'JOVEN TRABAJADOR', 'PAREJA JOVEN',\n",
    "       'PAREJAS ADULTAS', 'PAREJAS SENIOR'])]"
   ]
  },
  {
   "cell_type": "code",
   "execution_count": 6,
   "metadata": {
    "collapsed": false
   },
   "outputs": [
    {
     "data": {
      "text/html": [
       "<div>\n",
       "<table border=\"1\" class=\"dataframe\">\n",
       "  <thead>\n",
       "    <tr style=\"text-align: right;\">\n",
       "      <th></th>\n",
       "      <th>TP_SEGMENTO_FINAL2</th>\n",
       "      <th>contrata</th>\n",
       "      <th>TO_PROM_TO_CARGOS_3M</th>\n",
       "      <th>NU_VINC_COGNODATA</th>\n",
       "      <th>TO_NECESIDAD_FINAN_CAP_3M</th>\n",
       "      <th>IM_PROM_GASTOS_3M</th>\n",
       "      <th>IM_SUM_SDO_CORTE_1M</th>\n",
       "    </tr>\n",
       "  </thead>\n",
       "  <tbody>\n",
       "    <tr>\n",
       "      <th>0</th>\n",
       "      <td>PAREJAS ADULTAS</td>\n",
       "      <td>0</td>\n",
       "      <td>0.000000</td>\n",
       "      <td>1</td>\n",
       "      <td>0.000000</td>\n",
       "      <td>0.00000</td>\n",
       "      <td>0.00</td>\n",
       "    </tr>\n",
       "    <tr>\n",
       "      <th>1</th>\n",
       "      <td>ADULTOS INDEPENDIENTES</td>\n",
       "      <td>0</td>\n",
       "      <td>8.333333</td>\n",
       "      <td>4</td>\n",
       "      <td>5.431283</td>\n",
       "      <td>115592.35889</td>\n",
       "      <td>1488.45</td>\n",
       "    </tr>\n",
       "    <tr>\n",
       "      <th>2</th>\n",
       "      <td>JOVEN PROFESIONAL</td>\n",
       "      <td>0</td>\n",
       "      <td>9.666667</td>\n",
       "      <td>14</td>\n",
       "      <td>544.893976</td>\n",
       "      <td>583913.83334</td>\n",
       "      <td>96112.75</td>\n",
       "    </tr>\n",
       "    <tr>\n",
       "      <th>5</th>\n",
       "      <td>HOGARES CON HIJOS</td>\n",
       "      <td>0</td>\n",
       "      <td>10.666667</td>\n",
       "      <td>9</td>\n",
       "      <td>14.605193</td>\n",
       "      <td>257359.42091</td>\n",
       "      <td>12107.68</td>\n",
       "    </tr>\n",
       "    <tr>\n",
       "      <th>7</th>\n",
       "      <td>HOGARES CON HIJOS</td>\n",
       "      <td>0</td>\n",
       "      <td>0.000000</td>\n",
       "      <td>2</td>\n",
       "      <td>0.000000</td>\n",
       "      <td>0.00000</td>\n",
       "      <td>0.00</td>\n",
       "    </tr>\n",
       "  </tbody>\n",
       "</table>\n",
       "</div>"
      ],
      "text/plain": [
       "       TP_SEGMENTO_FINAL2  contrata  TO_PROM_TO_CARGOS_3M  NU_VINC_COGNODATA  \\\n",
       "0         PAREJAS ADULTAS         0              0.000000                  1   \n",
       "1  ADULTOS INDEPENDIENTES         0              8.333333                  4   \n",
       "2       JOVEN PROFESIONAL         0              9.666667                 14   \n",
       "5       HOGARES CON HIJOS         0             10.666667                  9   \n",
       "7       HOGARES CON HIJOS         0              0.000000                  2   \n",
       "\n",
       "   TO_NECESIDAD_FINAN_CAP_3M  IM_PROM_GASTOS_3M  IM_SUM_SDO_CORTE_1M  \n",
       "0                   0.000000            0.00000                 0.00  \n",
       "1                   5.431283       115592.35889              1488.45  \n",
       "2                 544.893976       583913.83334             96112.75  \n",
       "5                  14.605193       257359.42091             12107.68  \n",
       "7                   0.000000            0.00000                 0.00  "
      ]
     },
     "execution_count": 6,
     "metadata": {},
     "output_type": "execute_result"
    }
   ],
   "source": [
    "df=df.fillna(0)\n",
    "df.head()"
   ]
  },
  {
   "cell_type": "code",
   "execution_count": 7,
   "metadata": {
    "collapsed": false
   },
   "outputs": [],
   "source": [
    "new={'ADULTO EN PLENITUD':1, 'ADULTOS INDEPENDIENTES':2, 'DIVORCIADO':3,\n",
    "       'HOGARES CON HIJOS':4,\n",
    "       'JOVEN PROFESIONAL':5, 'JOVEN TRABAJADOR':6, 'PAREJA JOVEN':7,\n",
    "       'PAREJAS ADULTAS':8, 'PAREJAS SENIOR':9}"
   ]
  },
  {
   "cell_type": "code",
   "execution_count": 8,
   "metadata": {
    "collapsed": false
   },
   "outputs": [
    {
     "data": {
      "text/html": [
       "<div>\n",
       "<table border=\"1\" class=\"dataframe\">\n",
       "  <thead>\n",
       "    <tr style=\"text-align: right;\">\n",
       "      <th></th>\n",
       "      <th>TP_SEGMENTO_FINAL2</th>\n",
       "      <th>contrata</th>\n",
       "      <th>TO_PROM_TO_CARGOS_3M</th>\n",
       "      <th>NU_VINC_COGNODATA</th>\n",
       "      <th>TO_NECESIDAD_FINAN_CAP_3M</th>\n",
       "      <th>IM_PROM_GASTOS_3M</th>\n",
       "      <th>IM_SUM_SDO_CORTE_1M</th>\n",
       "      <th>Segmento</th>\n",
       "    </tr>\n",
       "  </thead>\n",
       "  <tbody>\n",
       "    <tr>\n",
       "      <th>0</th>\n",
       "      <td>PAREJAS ADULTAS</td>\n",
       "      <td>0</td>\n",
       "      <td>0.000000</td>\n",
       "      <td>1</td>\n",
       "      <td>0.000000</td>\n",
       "      <td>0.00000</td>\n",
       "      <td>0.00</td>\n",
       "      <td>8</td>\n",
       "    </tr>\n",
       "    <tr>\n",
       "      <th>1</th>\n",
       "      <td>ADULTOS INDEPENDIENTES</td>\n",
       "      <td>0</td>\n",
       "      <td>8.333333</td>\n",
       "      <td>4</td>\n",
       "      <td>5.431283</td>\n",
       "      <td>115592.35889</td>\n",
       "      <td>1488.45</td>\n",
       "      <td>2</td>\n",
       "    </tr>\n",
       "    <tr>\n",
       "      <th>2</th>\n",
       "      <td>JOVEN PROFESIONAL</td>\n",
       "      <td>0</td>\n",
       "      <td>9.666667</td>\n",
       "      <td>14</td>\n",
       "      <td>544.893976</td>\n",
       "      <td>583913.83334</td>\n",
       "      <td>96112.75</td>\n",
       "      <td>5</td>\n",
       "    </tr>\n",
       "    <tr>\n",
       "      <th>5</th>\n",
       "      <td>HOGARES CON HIJOS</td>\n",
       "      <td>0</td>\n",
       "      <td>10.666667</td>\n",
       "      <td>9</td>\n",
       "      <td>14.605193</td>\n",
       "      <td>257359.42091</td>\n",
       "      <td>12107.68</td>\n",
       "      <td>4</td>\n",
       "    </tr>\n",
       "    <tr>\n",
       "      <th>7</th>\n",
       "      <td>HOGARES CON HIJOS</td>\n",
       "      <td>0</td>\n",
       "      <td>0.000000</td>\n",
       "      <td>2</td>\n",
       "      <td>0.000000</td>\n",
       "      <td>0.00000</td>\n",
       "      <td>0.00</td>\n",
       "      <td>4</td>\n",
       "    </tr>\n",
       "  </tbody>\n",
       "</table>\n",
       "</div>"
      ],
      "text/plain": [
       "       TP_SEGMENTO_FINAL2  contrata  TO_PROM_TO_CARGOS_3M  NU_VINC_COGNODATA  \\\n",
       "0         PAREJAS ADULTAS         0              0.000000                  1   \n",
       "1  ADULTOS INDEPENDIENTES         0              8.333333                  4   \n",
       "2       JOVEN PROFESIONAL         0              9.666667                 14   \n",
       "5       HOGARES CON HIJOS         0             10.666667                  9   \n",
       "7       HOGARES CON HIJOS         0              0.000000                  2   \n",
       "\n",
       "   TO_NECESIDAD_FINAN_CAP_3M  IM_PROM_GASTOS_3M  IM_SUM_SDO_CORTE_1M  Segmento  \n",
       "0                   0.000000            0.00000                 0.00         8  \n",
       "1                   5.431283       115592.35889              1488.45         2  \n",
       "2                 544.893976       583913.83334             96112.75         5  \n",
       "5                  14.605193       257359.42091             12107.68         4  \n",
       "7                   0.000000            0.00000                 0.00         4  "
      ]
     },
     "execution_count": 8,
     "metadata": {},
     "output_type": "execute_result"
    }
   ],
   "source": [
    "#new['ADULTO EN PLENITUD']\n",
    "df['Segmento']=df['TP_SEGMENTO_FINAL2'].apply(lambda x: new[x])\n",
    "df.head()"
   ]
  },
  {
   "cell_type": "code",
   "execution_count": 9,
   "metadata": {
    "collapsed": false
   },
   "outputs": [],
   "source": [
    "# %load std_ipython_import.txt\n",
    "import pandas as pd\n",
    "import numpy as np\n",
    "import matplotlib.pyplot as plt\n",
    "import seaborn as sns\n",
    "import pymc3 as pm\n",
    "import theano.tensor as tt\n",
    "import warnings\n",
    "warnings.filterwarnings(\"ignore\", category=FutureWarning)\n",
    "\n",
    "from scipy.stats import beta\n",
    "from scipy.special import expit\n",
    "from matplotlib import gridspec\n",
    "from IPython.display import Image\n",
    "\n",
    "%matplotlib inline\n",
    "plt.style.use('seaborn-white')\n",
    "\n",
    "color = '#87ceeb'\n",
    "\n",
    "f_dict = {'size':16}"
   ]
  },
  {
   "cell_type": "code",
   "execution_count": 10,
   "metadata": {
    "collapsed": false
   },
   "outputs": [
    {
     "data": {
      "text/plain": [
       "161868"
      ]
     },
     "execution_count": 10,
     "metadata": {},
     "output_type": "execute_result"
    }
   ],
   "source": [
    "len(df)"
   ]
  },
  {
   "cell_type": "code",
   "execution_count": null,
   "metadata": {
    "collapsed": false
   },
   "outputs": [],
   "source": []
  },
  {
   "cell_type": "code",
   "execution_count": 11,
   "metadata": {
    "collapsed": false
   },
   "outputs": [
    {
     "name": "stderr",
     "output_type": "stream",
     "text": [
      "/home/abraham/anaconda3/lib/python3.6/site-packages/sklearn/cross_validation.py:41: DeprecationWarning: This module was deprecated in version 0.18 in favor of the model_selection module into which all the refactored classes and functions are moved. Also note that the interface of the new CV iterators are different from that of this module. This module will be removed in 0.20.\n",
      "  \"This module will be removed in 0.20.\", DeprecationWarning)\n"
     ]
    }
   ],
   "source": [
    "from sklearn.cross_validation import train_test_split \n",
    "X = df[['TO_PROM_TO_CARGOS_3M','NU_VINC_COGNODATA','TO_NECESIDAD_FINAN_CAP_3M',\n",
    "        'IM_PROM_GASTOS_3M','IM_SUM_SDO_CORTE_1M','Segmento']]\n",
    "y = df['contrata']\n",
    "\n",
    "X_train,X_test,y_train,y_test=train_test_split(X,y,test_size=0.3,random_state=6)\n",
    "c_train=X_train['Segmento']\n",
    "c_test=X_test['Segmento']\n",
    "\n",
    "from sklearn import preprocessing \n",
    "scalerx = preprocessing.StandardScaler().fit(X_train[['TO_PROM_TO_CARGOS_3M','NU_VINC_COGNODATA','TO_NECESIDAD_FINAN_CAP_3M',\n",
    "        'IM_PROM_GASTOS_3M','IM_SUM_SDO_CORTE_1M']])\n",
    "X_train=scalerx.transform(X_train[['TO_PROM_TO_CARGOS_3M','NU_VINC_COGNODATA','TO_NECESIDAD_FINAN_CAP_3M',\n",
    "        'IM_PROM_GASTOS_3M','IM_SUM_SDO_CORTE_1M']])\n",
    "X_test=scalerx.transform(X_test[['TO_PROM_TO_CARGOS_3M','NU_VINC_COGNODATA','TO_NECESIDAD_FINAN_CAP_3M',\n",
    "        'IM_PROM_GASTOS_3M','IM_SUM_SDO_CORTE_1M']])\n"
   ]
  },
  {
   "cell_type": "code",
   "execution_count": 12,
   "metadata": {
    "collapsed": false
   },
   "outputs": [
    {
     "data": {
      "text/plain": [
       "array([5, 4, 8, ..., 2, 7, 9])"
      ]
     },
     "execution_count": 12,
     "metadata": {},
     "output_type": "execute_result"
    }
   ],
   "source": [
    "zX = X_train\n",
    "y=y_train\n",
    "\n",
    "nclase=len(c_train.unique())\n",
    "clase_idx=c_train.values\n",
    "clase_idx"
   ]
  },
  {
   "cell_type": "code",
   "execution_count": 13,
   "metadata": {
    "collapsed": false
   },
   "outputs": [
    {
     "data": {
      "text/plain": [
       "9"
      ]
     },
     "execution_count": 13,
     "metadata": {},
     "output_type": "execute_result"
    }
   ],
   "source": [
    "nclase"
   ]
  },
  {
   "cell_type": "code",
   "execution_count": 14,
   "metadata": {
    "collapsed": false
   },
   "outputs": [
    {
     "name": "stdout",
     "output_type": "stream",
     "text": [
      "0.012302858605381838 0.01247914993513313\n"
     ]
    }
   ],
   "source": [
    "print(np.mean(y),np.mean(y_test))"
   ]
  },
  {
   "cell_type": "code",
   "execution_count": 15,
   "metadata": {
    "collapsed": false,
    "scrolled": true
   },
   "outputs": [
    {
     "data": {
      "image/svg+xml": [
       "<?xml version=\"1.0\" encoding=\"UTF-8\" standalone=\"no\"?>\n",
       "<!DOCTYPE svg PUBLIC \"-//W3C//DTD SVG 1.1//EN\"\n",
       " \"http://www.w3.org/Graphics/SVG/1.1/DTD/svg11.dtd\">\n",
       "<!-- Generated by graphviz version 2.38.0 (20140413.2041)\n",
       " -->\n",
       "<!-- Title: %3 Pages: 1 -->\n",
       "<svg width=\"987pt\" height=\"242pt\"\n",
       " viewBox=\"0.00 0.00 987.00 241.60\" xmlns=\"http://www.w3.org/2000/svg\" xmlns:xlink=\"http://www.w3.org/1999/xlink\">\n",
       "<g id=\"graph0\" class=\"graph\" transform=\"scale(1 1) rotate(0) translate(4 237.6)\">\n",
       "<title>%3</title>\n",
       "<polygon fill=\"white\" stroke=\"none\" points=\"-4,4 -4,-237.6 983,-237.6 983,4 -4,4\"/>\n",
       "<g id=\"clust1\" class=\"cluster\"><title>cluster9</title>\n",
       "<path fill=\"none\" stroke=\"black\" d=\"M20,-92.8C20,-92.8 959,-92.8 959,-92.8 965,-92.8 971,-98.8 971,-104.8 971,-104.8 971,-157.6 971,-157.6 971,-163.6 965,-169.6 959,-169.6 959,-169.6 20,-169.6 20,-169.6 14,-169.6 8,-163.6 8,-157.6 8,-157.6 8,-104.8 8,-104.8 8,-98.8 14,-92.8 20,-92.8\"/>\n",
       "<text text-anchor=\"middle\" x=\"959.5\" y=\"-101\" font-family=\"Times,serif\" font-size=\"14.00\">9</text>\n",
       "</g>\n",
       "<g id=\"clust2\" class=\"cluster\"><title>cluster113,307</title>\n",
       "<path fill=\"none\" stroke=\"black\" d=\"M396,-8C396,-8 582,-8 582,-8 588,-8 594,-14 594,-20 594,-20 594,-72.8 594,-72.8 594,-78.8 588,-84.8 582,-84.8 582,-84.8 396,-84.8 396,-84.8 390,-84.8 384,-78.8 384,-72.8 384,-72.8 384,-20 384,-20 384,-14 390,-8 396,-8\"/>\n",
       "<text text-anchor=\"middle\" x=\"563.25\" y=\"-16.2\" font-family=\"Times,serif\" font-size=\"14.00\">113,307</text>\n",
       "</g>\n",
       "<!-- t -->\n",
       "<g id=\"node1\" class=\"node\"><title>t</title>\n",
       "<ellipse fill=\"none\" stroke=\"black\" cx=\"489\" cy=\"-215.6\" rx=\"54.1828\" ry=\"18\"/>\n",
       "<text text-anchor=\"middle\" x=\"489\" y=\"-211.4\" font-family=\"Times,serif\" font-size=\"14.00\">t ~ Gamma</text>\n",
       "</g>\n",
       "<!-- beta1 -->\n",
       "<g id=\"node2\" class=\"node\"><title>beta1</title>\n",
       "<ellipse fill=\"none\" stroke=\"black\" cx=\"892\" cy=\"-143.6\" rx=\"71.4992\" ry=\"18\"/>\n",
       "<text text-anchor=\"middle\" x=\"892\" y=\"-139.4\" font-family=\"Times,serif\" font-size=\"14.00\">beta1 ~ Normal</text>\n",
       "</g>\n",
       "<!-- t&#45;&gt;beta1 -->\n",
       "<g id=\"edge2\" class=\"edge\"><title>t&#45;&gt;beta1</title>\n",
       "<path fill=\"none\" stroke=\"black\" d=\"M540.763,-209.95C604.765,-203.61 716.785,-190.58 811,-169.6 821.124,-167.346 831.813,-164.438 841.988,-161.407\"/>\n",
       "<polygon fill=\"black\" stroke=\"black\" points=\"843.013,-164.754 851.551,-158.481 840.965,-158.06 843.013,-164.754\"/>\n",
       "</g>\n",
       "<!-- beta4 -->\n",
       "<g id=\"node3\" class=\"node\"><title>beta4</title>\n",
       "<ellipse fill=\"none\" stroke=\"black\" cx=\"731\" cy=\"-143.6\" rx=\"71.4992\" ry=\"18\"/>\n",
       "<text text-anchor=\"middle\" x=\"731\" y=\"-139.4\" font-family=\"Times,serif\" font-size=\"14.00\">beta4 ~ Normal</text>\n",
       "</g>\n",
       "<!-- t&#45;&gt;beta4 -->\n",
       "<g id=\"edge5\" class=\"edge\"><title>t&#45;&gt;beta4</title>\n",
       "<path fill=\"none\" stroke=\"black\" d=\"M529.78,-203.527C562.378,-194.597 609.208,-181.593 650,-169.6 659.222,-166.889 669.01,-163.934 678.476,-161.036\"/>\n",
       "<polygon fill=\"black\" stroke=\"black\" points=\"679.658,-164.334 688.187,-158.049 677.6,-157.643 679.658,-164.334\"/>\n",
       "</g>\n",
       "<!-- beta0 -->\n",
       "<g id=\"node4\" class=\"node\"><title>beta0</title>\n",
       "<ellipse fill=\"none\" stroke=\"black\" cx=\"570\" cy=\"-143.6\" rx=\"71.4992\" ry=\"18\"/>\n",
       "<text text-anchor=\"middle\" x=\"570\" y=\"-139.4\" font-family=\"Times,serif\" font-size=\"14.00\">beta0 ~ Normal</text>\n",
       "</g>\n",
       "<!-- t&#45;&gt;beta0 -->\n",
       "<g id=\"edge1\" class=\"edge\"><title>t&#45;&gt;beta0</title>\n",
       "<path fill=\"none\" stroke=\"black\" d=\"M507.787,-198.365C518.343,-189.242 531.693,-177.705 543.318,-167.659\"/>\n",
       "<polygon fill=\"black\" stroke=\"black\" points=\"545.757,-170.177 551.035,-160.99 541.18,-164.88 545.757,-170.177\"/>\n",
       "</g>\n",
       "<!-- beta5 -->\n",
       "<g id=\"node5\" class=\"node\"><title>beta5</title>\n",
       "<ellipse fill=\"none\" stroke=\"black\" cx=\"409\" cy=\"-143.6\" rx=\"71.4992\" ry=\"18\"/>\n",
       "<text text-anchor=\"middle\" x=\"409\" y=\"-139.4\" font-family=\"Times,serif\" font-size=\"14.00\">beta5 ~ Normal</text>\n",
       "</g>\n",
       "<!-- t&#45;&gt;beta5 -->\n",
       "<g id=\"edge6\" class=\"edge\"><title>t&#45;&gt;beta5</title>\n",
       "<path fill=\"none\" stroke=\"black\" d=\"M470.445,-198.365C460.019,-189.242 446.834,-177.705 435.353,-167.659\"/>\n",
       "<polygon fill=\"black\" stroke=\"black\" points=\"437.562,-164.941 427.731,-160.99 432.952,-170.209 437.562,-164.941\"/>\n",
       "</g>\n",
       "<!-- beta3 -->\n",
       "<g id=\"node6\" class=\"node\"><title>beta3</title>\n",
       "<ellipse fill=\"none\" stroke=\"black\" cx=\"248\" cy=\"-143.6\" rx=\"71.4992\" ry=\"18\"/>\n",
       "<text text-anchor=\"middle\" x=\"248\" y=\"-139.4\" font-family=\"Times,serif\" font-size=\"14.00\">beta3 ~ Normal</text>\n",
       "</g>\n",
       "<!-- t&#45;&gt;beta3 -->\n",
       "<g id=\"edge4\" class=\"edge\"><title>t&#45;&gt;beta3</title>\n",
       "<path fill=\"none\" stroke=\"black\" d=\"M448.478,-203.507C416.085,-194.566 369.547,-181.557 329,-169.6 319.78,-166.881 309.993,-163.922 300.527,-161.023\"/>\n",
       "<polygon fill=\"black\" stroke=\"black\" points=\"301.404,-157.631 290.817,-158.036 299.346,-164.322 301.404,-157.631\"/>\n",
       "</g>\n",
       "<!-- beta2 -->\n",
       "<g id=\"node7\" class=\"node\"><title>beta2</title>\n",
       "<ellipse fill=\"none\" stroke=\"black\" cx=\"87\" cy=\"-143.6\" rx=\"71.4992\" ry=\"18\"/>\n",
       "<text text-anchor=\"middle\" x=\"87\" y=\"-139.4\" font-family=\"Times,serif\" font-size=\"14.00\">beta2 ~ Normal</text>\n",
       "</g>\n",
       "<!-- t&#45;&gt;beta2 -->\n",
       "<g id=\"edge3\" class=\"edge\"><title>t&#45;&gt;beta2</title>\n",
       "<path fill=\"none\" stroke=\"black\" d=\"M437.398,-209.936C373.596,-203.581 261.924,-190.536 168,-169.6 157.876,-167.343 147.188,-164.434 137.013,-161.404\"/>\n",
       "<polygon fill=\"black\" stroke=\"black\" points=\"138.036,-158.057 127.45,-158.477 135.988,-164.75 138.036,-158.057\"/>\n",
       "</g>\n",
       "<!-- likelihood -->\n",
       "<g id=\"node8\" class=\"node\"><title>likelihood</title>\n",
       "<ellipse fill=\"lightgrey\" stroke=\"black\" cx=\"489\" cy=\"-58.8\" rx=\"96.9612\" ry=\"18\"/>\n",
       "<text text-anchor=\"middle\" x=\"489\" y=\"-54.6\" font-family=\"Times,serif\" font-size=\"14.00\">likelihood ~ Bernoulli</text>\n",
       "</g>\n",
       "<!-- beta1&#45;&gt;likelihood -->\n",
       "<g id=\"edge7\" class=\"edge\"><title>beta1&#45;&gt;likelihood</title>\n",
       "<path fill=\"none\" stroke=\"black\" d=\"M871.326,-126.244C855.695,-114.822 833.201,-100.322 811,-92.8 771.524,-79.4246 669.681,-70.4698 591.002,-65.3035\"/>\n",
       "<polygon fill=\"black\" stroke=\"black\" points=\"590.757,-61.7805 580.553,-64.6305 590.307,-68.766 590.757,-61.7805\"/>\n",
       "</g>\n",
       "<!-- beta4&#45;&gt;likelihood -->\n",
       "<g id=\"edge8\" class=\"edge\"><title>beta4&#45;&gt;likelihood</title>\n",
       "<path fill=\"none\" stroke=\"black\" d=\"M709.416,-126.428C693.7,-115.398 671.49,-101.302 650,-92.8 626.564,-83.5289 600.134,-76.7269 575.565,-71.7938\"/>\n",
       "<polygon fill=\"black\" stroke=\"black\" points=\"576.01,-68.3153 565.529,-69.8597 574.686,-75.1889 576.01,-68.3153\"/>\n",
       "</g>\n",
       "<!-- beta0&#45;&gt;likelihood -->\n",
       "<g id=\"edge9\" class=\"edge\"><title>beta0&#45;&gt;likelihood</title>\n",
       "<path fill=\"none\" stroke=\"black\" d=\"M553.608,-125.844C541.938,-113.915 526.069,-97.6926 512.979,-84.3115\"/>\n",
       "<polygon fill=\"black\" stroke=\"black\" points=\"515.14,-81.5159 505.645,-76.8151 510.136,-86.411 515.14,-81.5159\"/>\n",
       "</g>\n",
       "<!-- beta5&#45;&gt;likelihood -->\n",
       "<g id=\"edge10\" class=\"edge\"><title>beta5&#45;&gt;likelihood</title>\n",
       "<path fill=\"none\" stroke=\"black\" d=\"M425.189,-125.844C436.715,-113.915 452.389,-97.6926 465.317,-84.3115\"/>\n",
       "<polygon fill=\"black\" stroke=\"black\" points=\"468.129,-86.4387 472.56,-76.8151 463.095,-81.5748 468.129,-86.4387\"/>\n",
       "</g>\n",
       "<!-- beta3&#45;&gt;likelihood -->\n",
       "<g id=\"edge11\" class=\"edge\"><title>beta3&#45;&gt;likelihood</title>\n",
       "<path fill=\"none\" stroke=\"black\" d=\"M269.587,-126.436C285.304,-115.41 307.515,-101.315 329,-92.8 352.174,-83.6158 378.295,-76.8482 402.608,-71.9203\"/>\n",
       "<polygon fill=\"black\" stroke=\"black\" points=\"403.395,-75.3329 412.542,-69.9867 402.058,-68.4619 403.395,-75.3329\"/>\n",
       "</g>\n",
       "<!-- beta2&#45;&gt;likelihood -->\n",
       "<g id=\"edge12\" class=\"edge\"><title>beta2&#45;&gt;likelihood</title>\n",
       "<path fill=\"none\" stroke=\"black\" d=\"M107.675,-126.246C123.306,-114.825 145.8,-100.326 168,-92.8 207.289,-79.481 308.552,-70.528 386.934,-65.3471\"/>\n",
       "<polygon fill=\"black\" stroke=\"black\" points=\"387.593,-68.8118 397.346,-64.672 387.14,-61.8265 387.593,-68.8118\"/>\n",
       "</g>\n",
       "</g>\n",
       "</svg>\n"
      ],
      "text/plain": [
       "<graphviz.dot.Digraph at 0x7f3d1cdc1ba8>"
      ]
     },
     "execution_count": 15,
     "metadata": {},
     "output_type": "execute_result"
    }
   ],
   "source": [
    "from pymc3 import Model, sample, Normal, HalfCauchy, Uniform, model_to_graphviz\n",
    "with pm.Model() as model_weight:\n",
    "    \n",
    "    t=pm.Gamma('t',alpha=0.001,beta=0.001)\n",
    "    \n",
    "    beta0 = pm.Normal('beta0', mu=0, tau=t,shape=nclase)\n",
    "    beta1 = pm.Normal('beta1', mu=0, tau=t,shape=nclase)\n",
    "    beta2 = pm.Normal('beta2', mu=0, tau=t,shape=nclase)\n",
    "    beta3 = pm.Normal('beta3', mu=0, tau=t,shape=nclase)\n",
    "    beta4 = pm.Normal('beta4', mu=0, tau=t,shape=nclase)\n",
    "    beta5 = pm.Normal('beta5', mu=0, tau=t,shape=nclase)\n",
    "    #beta6 = pm.Normal('beta6', mu=0, tau=t,shape=nclase)\n",
    "            \n",
    "        \n",
    "    p = pm.invlogit(beta0[clase_idx-1] + beta1[clase_idx-1]*zX[:,0]+beta2[clase_idx-1]*zX[:,1]\n",
    "                    +beta3[clase_idx-1]*zX[:,2]+beta4[clase_idx-1]*zX[:,3]+\n",
    "                   beta5[clase_idx-1]*zX[:,4])#+beta6[clase_idx-1]*zX[:,5])\n",
    "        \n",
    "    likelihood = pm.Bernoulli('likelihood', p, observed=y.values)\n",
    "    \n",
    "    #posterior=pm.Deterministic('posterior',likelihood*1)\n",
    "\n",
    "model_to_graphviz(model_weight)"
   ]
  },
  {
   "cell_type": "code",
   "execution_count": null,
   "metadata": {
    "collapsed": false
   },
   "outputs": [
    {
     "name": "stderr",
     "output_type": "stream",
     "text": [
      "Auto-assigning NUTS sampler...\n",
      "Initializing NUTS using jitter+adapt_diag...\n",
      "Multiprocess sampling (2 chains in 2 jobs)\n",
      "NUTS: [beta5, beta4, beta3, beta2, beta1, beta0, t]\n",
      "Sampling 2 chains:   7%|▋         | 1440/22000 [7:35:11<121:58:52, 21.36s/draws]"
     ]
    }
   ],
   "source": [
    "%%time\n",
    "with model_weight:\n",
    "    trace1 = pm.sample(10000,tune=1000, cores=2)    "
   ]
  },
  {
   "cell_type": "code",
   "execution_count": 18,
   "metadata": {
    "collapsed": false
   },
   "outputs": [
    {
     "data": {
      "text/html": [
       "<div>\n",
       "<table border=\"1\" class=\"dataframe\">\n",
       "  <thead>\n",
       "    <tr style=\"text-align: right;\">\n",
       "      <th></th>\n",
       "      <th>mean</th>\n",
       "      <th>sd</th>\n",
       "      <th>mc_error</th>\n",
       "      <th>hpd_2.5</th>\n",
       "      <th>hpd_97.5</th>\n",
       "      <th>n_eff</th>\n",
       "      <th>Rhat</th>\n",
       "    </tr>\n",
       "  </thead>\n",
       "  <tbody>\n",
       "    <tr>\n",
       "      <th>beta0__0</th>\n",
       "      <td>-0.038115</td>\n",
       "      <td>0.300127</td>\n",
       "      <td>0.030013</td>\n",
       "      <td>-0.338242</td>\n",
       "      <td>0.262012</td>\n",
       "      <td>1.0005</td>\n",
       "      <td>3.308015e+06</td>\n",
       "    </tr>\n",
       "    <tr>\n",
       "      <th>beta0__1</th>\n",
       "      <td>0.203757</td>\n",
       "      <td>0.559163</td>\n",
       "      <td>0.055916</td>\n",
       "      <td>-0.355407</td>\n",
       "      <td>0.762921</td>\n",
       "      <td>1.0005</td>\n",
       "      <td>3.019801e+06</td>\n",
       "    </tr>\n",
       "    <tr>\n",
       "      <th>beta0__2</th>\n",
       "      <td>-0.571432</td>\n",
       "      <td>0.274520</td>\n",
       "      <td>0.027452</td>\n",
       "      <td>-0.845952</td>\n",
       "      <td>-0.296912</td>\n",
       "      <td>1.0005</td>\n",
       "      <td>2.029900e+06</td>\n",
       "    </tr>\n",
       "    <tr>\n",
       "      <th>beta0__3</th>\n",
       "      <td>0.033278</td>\n",
       "      <td>0.710771</td>\n",
       "      <td>0.071077</td>\n",
       "      <td>-0.677493</td>\n",
       "      <td>0.744050</td>\n",
       "      <td>1.0005</td>\n",
       "      <td>3.443276e+06</td>\n",
       "    </tr>\n",
       "    <tr>\n",
       "      <th>beta0__4</th>\n",
       "      <td>0.473962</td>\n",
       "      <td>0.041728</td>\n",
       "      <td>0.004173</td>\n",
       "      <td>0.432234</td>\n",
       "      <td>0.515689</td>\n",
       "      <td>1.0005</td>\n",
       "      <td>5.304184e+05</td>\n",
       "    </tr>\n",
       "    <tr>\n",
       "      <th>beta0__5</th>\n",
       "      <td>-0.402911</td>\n",
       "      <td>0.236979</td>\n",
       "      <td>0.023698</td>\n",
       "      <td>-0.639890</td>\n",
       "      <td>-0.165932</td>\n",
       "      <td>1.0005</td>\n",
       "      <td>2.443113e+06</td>\n",
       "    </tr>\n",
       "    <tr>\n",
       "      <th>beta0__6</th>\n",
       "      <td>0.335690</td>\n",
       "      <td>0.656604</td>\n",
       "      <td>0.065660</td>\n",
       "      <td>-0.320914</td>\n",
       "      <td>0.992294</td>\n",
       "      <td>1.0005</td>\n",
       "      <td>6.218683e+06</td>\n",
       "    </tr>\n",
       "    <tr>\n",
       "      <th>beta0__7</th>\n",
       "      <td>-0.103871</td>\n",
       "      <td>0.405549</td>\n",
       "      <td>0.040555</td>\n",
       "      <td>-0.509420</td>\n",
       "      <td>0.301679</td>\n",
       "      <td>1.0005</td>\n",
       "      <td>3.719866e+06</td>\n",
       "    </tr>\n",
       "    <tr>\n",
       "      <th>beta0__8</th>\n",
       "      <td>0.490355</td>\n",
       "      <td>0.149352</td>\n",
       "      <td>0.014935</td>\n",
       "      <td>0.341004</td>\n",
       "      <td>0.639707</td>\n",
       "      <td>1.0005</td>\n",
       "      <td>1.921982e+06</td>\n",
       "    </tr>\n",
       "    <tr>\n",
       "      <th>beta1__0</th>\n",
       "      <td>0.464946</td>\n",
       "      <td>0.135021</td>\n",
       "      <td>0.013502</td>\n",
       "      <td>0.329925</td>\n",
       "      <td>0.599967</td>\n",
       "      <td>1.0005</td>\n",
       "      <td>1.096817e+06</td>\n",
       "    </tr>\n",
       "    <tr>\n",
       "      <th>beta1__1</th>\n",
       "      <td>-0.230847</td>\n",
       "      <td>0.215570</td>\n",
       "      <td>0.021557</td>\n",
       "      <td>-0.446416</td>\n",
       "      <td>-0.015277</td>\n",
       "      <td>1.0005</td>\n",
       "      <td>2.718239e+06</td>\n",
       "    </tr>\n",
       "    <tr>\n",
       "      <th>beta1__2</th>\n",
       "      <td>0.487725</td>\n",
       "      <td>0.092337</td>\n",
       "      <td>0.009234</td>\n",
       "      <td>0.395388</td>\n",
       "      <td>0.580062</td>\n",
       "      <td>1.0005</td>\n",
       "      <td>1.295120e+06</td>\n",
       "    </tr>\n",
       "    <tr>\n",
       "      <th>beta1__3</th>\n",
       "      <td>0.316047</td>\n",
       "      <td>0.339974</td>\n",
       "      <td>0.033997</td>\n",
       "      <td>-0.023928</td>\n",
       "      <td>0.656021</td>\n",
       "      <td>1.0005</td>\n",
       "      <td>3.095480e+06</td>\n",
       "    </tr>\n",
       "    <tr>\n",
       "      <th>beta1__4</th>\n",
       "      <td>-0.738212</td>\n",
       "      <td>0.247719</td>\n",
       "      <td>0.024772</td>\n",
       "      <td>-0.985931</td>\n",
       "      <td>-0.490493</td>\n",
       "      <td>1.0005</td>\n",
       "      <td>2.776818e+06</td>\n",
       "    </tr>\n",
       "    <tr>\n",
       "      <th>beta1__5</th>\n",
       "      <td>0.355333</td>\n",
       "      <td>0.074953</td>\n",
       "      <td>0.007495</td>\n",
       "      <td>0.280380</td>\n",
       "      <td>0.430287</td>\n",
       "      <td>1.0005</td>\n",
       "      <td>4.310913e+05</td>\n",
       "    </tr>\n",
       "    <tr>\n",
       "      <th>beta1__6</th>\n",
       "      <td>0.073045</td>\n",
       "      <td>0.073925</td>\n",
       "      <td>0.007393</td>\n",
       "      <td>-0.000881</td>\n",
       "      <td>0.146970</td>\n",
       "      <td>1.0005</td>\n",
       "      <td>6.791068e+05</td>\n",
       "    </tr>\n",
       "    <tr>\n",
       "      <th>beta1__7</th>\n",
       "      <td>0.303209</td>\n",
       "      <td>0.600422</td>\n",
       "      <td>0.060042</td>\n",
       "      <td>-0.297213</td>\n",
       "      <td>0.903631</td>\n",
       "      <td>1.0005</td>\n",
       "      <td>4.846517e+06</td>\n",
       "    </tr>\n",
       "    <tr>\n",
       "      <th>beta1__8</th>\n",
       "      <td>0.035413</td>\n",
       "      <td>0.229690</td>\n",
       "      <td>0.022969</td>\n",
       "      <td>-0.194276</td>\n",
       "      <td>0.265103</td>\n",
       "      <td>1.0005</td>\n",
       "      <td>1.494744e+06</td>\n",
       "    </tr>\n",
       "    <tr>\n",
       "      <th>beta2__0</th>\n",
       "      <td>-0.114549</td>\n",
       "      <td>0.073501</td>\n",
       "      <td>0.007350</td>\n",
       "      <td>-0.188050</td>\n",
       "      <td>-0.041047</td>\n",
       "      <td>1.0005</td>\n",
       "      <td>1.447671e+06</td>\n",
       "    </tr>\n",
       "    <tr>\n",
       "      <th>beta2__1</th>\n",
       "      <td>0.117382</td>\n",
       "      <td>0.056790</td>\n",
       "      <td>0.005679</td>\n",
       "      <td>0.060592</td>\n",
       "      <td>0.174173</td>\n",
       "      <td>1.0005</td>\n",
       "      <td>5.926784e+05</td>\n",
       "    </tr>\n",
       "    <tr>\n",
       "      <th>beta2__2</th>\n",
       "      <td>0.425296</td>\n",
       "      <td>0.413526</td>\n",
       "      <td>0.041353</td>\n",
       "      <td>0.011769</td>\n",
       "      <td>0.838822</td>\n",
       "      <td>1.0005</td>\n",
       "      <td>3.694084e+06</td>\n",
       "    </tr>\n",
       "    <tr>\n",
       "      <th>beta2__3</th>\n",
       "      <td>0.520923</td>\n",
       "      <td>0.073654</td>\n",
       "      <td>0.007365</td>\n",
       "      <td>0.447269</td>\n",
       "      <td>0.594577</td>\n",
       "      <td>1.0005</td>\n",
       "      <td>5.256701e+05</td>\n",
       "    </tr>\n",
       "    <tr>\n",
       "      <th>beta2__4</th>\n",
       "      <td>0.143620</td>\n",
       "      <td>0.410301</td>\n",
       "      <td>0.041030</td>\n",
       "      <td>-0.266681</td>\n",
       "      <td>0.553921</td>\n",
       "      <td>1.0005</td>\n",
       "      <td>5.449819e+06</td>\n",
       "    </tr>\n",
       "    <tr>\n",
       "      <th>beta2__5</th>\n",
       "      <td>-0.091464</td>\n",
       "      <td>0.274998</td>\n",
       "      <td>0.027500</td>\n",
       "      <td>-0.366462</td>\n",
       "      <td>0.183535</td>\n",
       "      <td>1.0005</td>\n",
       "      <td>1.608547e+06</td>\n",
       "    </tr>\n",
       "    <tr>\n",
       "      <th>beta2__6</th>\n",
       "      <td>0.771814</td>\n",
       "      <td>0.083534</td>\n",
       "      <td>0.008353</td>\n",
       "      <td>0.688279</td>\n",
       "      <td>0.855348</td>\n",
       "      <td>1.0005</td>\n",
       "      <td>8.974848e+05</td>\n",
       "    </tr>\n",
       "    <tr>\n",
       "      <th>beta2__7</th>\n",
       "      <td>0.302965</td>\n",
       "      <td>0.350162</td>\n",
       "      <td>0.035016</td>\n",
       "      <td>-0.047196</td>\n",
       "      <td>0.653127</td>\n",
       "      <td>1.0005</td>\n",
       "      <td>4.367819e+06</td>\n",
       "    </tr>\n",
       "    <tr>\n",
       "      <th>beta2__8</th>\n",
       "      <td>-0.139226</td>\n",
       "      <td>0.591500</td>\n",
       "      <td>0.059150</td>\n",
       "      <td>-0.730726</td>\n",
       "      <td>0.452274</td>\n",
       "      <td>1.0005</td>\n",
       "      <td>6.748572e+06</td>\n",
       "    </tr>\n",
       "    <tr>\n",
       "      <th>beta3__0</th>\n",
       "      <td>0.072874</td>\n",
       "      <td>0.598448</td>\n",
       "      <td>0.059845</td>\n",
       "      <td>-0.525574</td>\n",
       "      <td>0.671321</td>\n",
       "      <td>1.0005</td>\n",
       "      <td>3.927205e+06</td>\n",
       "    </tr>\n",
       "    <tr>\n",
       "      <th>beta3__1</th>\n",
       "      <td>-0.320758</td>\n",
       "      <td>0.241789</td>\n",
       "      <td>0.024179</td>\n",
       "      <td>-0.562548</td>\n",
       "      <td>-0.078969</td>\n",
       "      <td>1.0005</td>\n",
       "      <td>2.202041e+06</td>\n",
       "    </tr>\n",
       "    <tr>\n",
       "      <th>beta3__2</th>\n",
       "      <td>0.049348</td>\n",
       "      <td>0.192528</td>\n",
       "      <td>0.019253</td>\n",
       "      <td>-0.143180</td>\n",
       "      <td>0.241876</td>\n",
       "      <td>1.0005</td>\n",
       "      <td>1.485519e+06</td>\n",
       "    </tr>\n",
       "    <tr>\n",
       "      <th>beta3__3</th>\n",
       "      <td>0.017635</td>\n",
       "      <td>0.670172</td>\n",
       "      <td>0.067017</td>\n",
       "      <td>-0.652537</td>\n",
       "      <td>0.687807</td>\n",
       "      <td>1.0005</td>\n",
       "      <td>4.856665e+06</td>\n",
       "    </tr>\n",
       "    <tr>\n",
       "      <th>beta3__4</th>\n",
       "      <td>0.107838</td>\n",
       "      <td>0.190917</td>\n",
       "      <td>0.019092</td>\n",
       "      <td>-0.083079</td>\n",
       "      <td>0.298755</td>\n",
       "      <td>1.0005</td>\n",
       "      <td>1.869431e+06</td>\n",
       "    </tr>\n",
       "    <tr>\n",
       "      <th>beta3__5</th>\n",
       "      <td>-0.301679</td>\n",
       "      <td>0.149979</td>\n",
       "      <td>0.014998</td>\n",
       "      <td>-0.451658</td>\n",
       "      <td>-0.151700</td>\n",
       "      <td>1.0005</td>\n",
       "      <td>1.568210e+06</td>\n",
       "    </tr>\n",
       "    <tr>\n",
       "      <th>beta3__6</th>\n",
       "      <td>-0.552764</td>\n",
       "      <td>0.353984</td>\n",
       "      <td>0.035398</td>\n",
       "      <td>-0.906749</td>\n",
       "      <td>-0.198780</td>\n",
       "      <td>1.0005</td>\n",
       "      <td>2.160054e+06</td>\n",
       "    </tr>\n",
       "    <tr>\n",
       "      <th>beta3__7</th>\n",
       "      <td>-0.426342</td>\n",
       "      <td>0.481450</td>\n",
       "      <td>0.048145</td>\n",
       "      <td>-0.907791</td>\n",
       "      <td>0.055109</td>\n",
       "      <td>1.0005</td>\n",
       "      <td>3.828169e+06</td>\n",
       "    </tr>\n",
       "    <tr>\n",
       "      <th>beta3__8</th>\n",
       "      <td>0.593306</td>\n",
       "      <td>0.300633</td>\n",
       "      <td>0.030063</td>\n",
       "      <td>0.292672</td>\n",
       "      <td>0.893939</td>\n",
       "      <td>1.0005</td>\n",
       "      <td>2.022783e+06</td>\n",
       "    </tr>\n",
       "    <tr>\n",
       "      <th>beta4__0</th>\n",
       "      <td>0.649369</td>\n",
       "      <td>0.192636</td>\n",
       "      <td>0.019264</td>\n",
       "      <td>0.456733</td>\n",
       "      <td>0.842006</td>\n",
       "      <td>1.0005</td>\n",
       "      <td>1.638470e+06</td>\n",
       "    </tr>\n",
       "    <tr>\n",
       "      <th>beta4__1</th>\n",
       "      <td>-0.376246</td>\n",
       "      <td>0.341720</td>\n",
       "      <td>0.034172</td>\n",
       "      <td>-0.717966</td>\n",
       "      <td>-0.034526</td>\n",
       "      <td>1.0005</td>\n",
       "      <td>1.656703e+06</td>\n",
       "    </tr>\n",
       "    <tr>\n",
       "      <th>beta4__2</th>\n",
       "      <td>-0.514321</td>\n",
       "      <td>0.390348</td>\n",
       "      <td>0.039035</td>\n",
       "      <td>-0.904669</td>\n",
       "      <td>-0.123973</td>\n",
       "      <td>1.0005</td>\n",
       "      <td>3.473312e+06</td>\n",
       "    </tr>\n",
       "    <tr>\n",
       "      <th>beta4__3</th>\n",
       "      <td>-0.668382</td>\n",
       "      <td>0.144181</td>\n",
       "      <td>0.014418</td>\n",
       "      <td>-0.812564</td>\n",
       "      <td>-0.524201</td>\n",
       "      <td>1.0005</td>\n",
       "      <td>9.323176e+05</td>\n",
       "    </tr>\n",
       "    <tr>\n",
       "      <th>beta4__4</th>\n",
       "      <td>0.023383</td>\n",
       "      <td>0.714194</td>\n",
       "      <td>0.071419</td>\n",
       "      <td>-0.690811</td>\n",
       "      <td>0.737577</td>\n",
       "      <td>1.0005</td>\n",
       "      <td>6.214713e+06</td>\n",
       "    </tr>\n",
       "    <tr>\n",
       "      <th>beta4__5</th>\n",
       "      <td>0.241309</td>\n",
       "      <td>0.744763</td>\n",
       "      <td>0.074476</td>\n",
       "      <td>-0.503454</td>\n",
       "      <td>0.986072</td>\n",
       "      <td>1.0005</td>\n",
       "      <td>1.186939e+07</td>\n",
       "    </tr>\n",
       "    <tr>\n",
       "      <th>beta4__6</th>\n",
       "      <td>0.170305</td>\n",
       "      <td>0.695482</td>\n",
       "      <td>0.069548</td>\n",
       "      <td>-0.525177</td>\n",
       "      <td>0.865787</td>\n",
       "      <td>1.0005</td>\n",
       "      <td>3.295250e+06</td>\n",
       "    </tr>\n",
       "    <tr>\n",
       "      <th>beta4__7</th>\n",
       "      <td>0.708740</td>\n",
       "      <td>0.110509</td>\n",
       "      <td>0.011051</td>\n",
       "      <td>0.598230</td>\n",
       "      <td>0.819249</td>\n",
       "      <td>1.0005</td>\n",
       "      <td>1.065547e+06</td>\n",
       "    </tr>\n",
       "    <tr>\n",
       "      <th>beta4__8</th>\n",
       "      <td>0.093124</td>\n",
       "      <td>0.441244</td>\n",
       "      <td>0.044124</td>\n",
       "      <td>-0.348120</td>\n",
       "      <td>0.534369</td>\n",
       "      <td>1.0005</td>\n",
       "      <td>3.373839e+06</td>\n",
       "    </tr>\n",
       "    <tr>\n",
       "      <th>beta5__0</th>\n",
       "      <td>0.432133</td>\n",
       "      <td>0.342295</td>\n",
       "      <td>0.034230</td>\n",
       "      <td>0.089838</td>\n",
       "      <td>0.774428</td>\n",
       "      <td>1.0005</td>\n",
       "      <td>2.814289e+06</td>\n",
       "    </tr>\n",
       "    <tr>\n",
       "      <th>beta5__1</th>\n",
       "      <td>0.024638</td>\n",
       "      <td>0.798748</td>\n",
       "      <td>0.079875</td>\n",
       "      <td>-0.774110</td>\n",
       "      <td>0.823387</td>\n",
       "      <td>1.0005</td>\n",
       "      <td>7.887696e+06</td>\n",
       "    </tr>\n",
       "    <tr>\n",
       "      <th>beta5__2</th>\n",
       "      <td>0.328592</td>\n",
       "      <td>0.640205</td>\n",
       "      <td>0.064020</td>\n",
       "      <td>-0.311613</td>\n",
       "      <td>0.968797</td>\n",
       "      <td>1.0005</td>\n",
       "      <td>7.918651e+06</td>\n",
       "    </tr>\n",
       "    <tr>\n",
       "      <th>beta5__3</th>\n",
       "      <td>-0.005395</td>\n",
       "      <td>0.100456</td>\n",
       "      <td>0.010046</td>\n",
       "      <td>-0.105850</td>\n",
       "      <td>0.095061</td>\n",
       "      <td>1.0005</td>\n",
       "      <td>1.057728e+06</td>\n",
       "    </tr>\n",
       "    <tr>\n",
       "      <th>beta5__4</th>\n",
       "      <td>0.795365</td>\n",
       "      <td>0.108611</td>\n",
       "      <td>0.010861</td>\n",
       "      <td>0.686754</td>\n",
       "      <td>0.903976</td>\n",
       "      <td>1.0005</td>\n",
       "      <td>1.070152e+06</td>\n",
       "    </tr>\n",
       "    <tr>\n",
       "      <th>beta5__5</th>\n",
       "      <td>0.537645</td>\n",
       "      <td>0.071092</td>\n",
       "      <td>0.007109</td>\n",
       "      <td>0.466552</td>\n",
       "      <td>0.608737</td>\n",
       "      <td>1.0005</td>\n",
       "      <td>5.194031e+05</td>\n",
       "    </tr>\n",
       "    <tr>\n",
       "      <th>beta5__6</th>\n",
       "      <td>-0.006373</td>\n",
       "      <td>0.934378</td>\n",
       "      <td>0.093438</td>\n",
       "      <td>-0.940751</td>\n",
       "      <td>0.928006</td>\n",
       "      <td>1.0005</td>\n",
       "      <td>1.258281e+07</td>\n",
       "    </tr>\n",
       "    <tr>\n",
       "      <th>beta5__7</th>\n",
       "      <td>0.426511</td>\n",
       "      <td>0.336065</td>\n",
       "      <td>0.033607</td>\n",
       "      <td>0.090445</td>\n",
       "      <td>0.762576</td>\n",
       "      <td>1.0005</td>\n",
       "      <td>1.115744e+06</td>\n",
       "    </tr>\n",
       "    <tr>\n",
       "      <th>beta5__8</th>\n",
       "      <td>0.184033</td>\n",
       "      <td>0.372739</td>\n",
       "      <td>0.037274</td>\n",
       "      <td>-0.188706</td>\n",
       "      <td>0.556773</td>\n",
       "      <td>1.0005</td>\n",
       "      <td>2.066539e+06</td>\n",
       "    </tr>\n",
       "    <tr>\n",
       "      <th>t</th>\n",
       "      <td>1.085234</td>\n",
       "      <td>0.216024</td>\n",
       "      <td>0.021602</td>\n",
       "      <td>0.869210</td>\n",
       "      <td>1.301258</td>\n",
       "      <td>1.0005</td>\n",
       "      <td>4.348206e+06</td>\n",
       "    </tr>\n",
       "  </tbody>\n",
       "</table>\n",
       "</div>"
      ],
      "text/plain": [
       "              mean        sd  mc_error   hpd_2.5  hpd_97.5   n_eff  \\\n",
       "beta0__0 -0.038115  0.300127  0.030013 -0.338242  0.262012  1.0005   \n",
       "beta0__1  0.203757  0.559163  0.055916 -0.355407  0.762921  1.0005   \n",
       "beta0__2 -0.571432  0.274520  0.027452 -0.845952 -0.296912  1.0005   \n",
       "beta0__3  0.033278  0.710771  0.071077 -0.677493  0.744050  1.0005   \n",
       "beta0__4  0.473962  0.041728  0.004173  0.432234  0.515689  1.0005   \n",
       "beta0__5 -0.402911  0.236979  0.023698 -0.639890 -0.165932  1.0005   \n",
       "beta0__6  0.335690  0.656604  0.065660 -0.320914  0.992294  1.0005   \n",
       "beta0__7 -0.103871  0.405549  0.040555 -0.509420  0.301679  1.0005   \n",
       "beta0__8  0.490355  0.149352  0.014935  0.341004  0.639707  1.0005   \n",
       "beta1__0  0.464946  0.135021  0.013502  0.329925  0.599967  1.0005   \n",
       "beta1__1 -0.230847  0.215570  0.021557 -0.446416 -0.015277  1.0005   \n",
       "beta1__2  0.487725  0.092337  0.009234  0.395388  0.580062  1.0005   \n",
       "beta1__3  0.316047  0.339974  0.033997 -0.023928  0.656021  1.0005   \n",
       "beta1__4 -0.738212  0.247719  0.024772 -0.985931 -0.490493  1.0005   \n",
       "beta1__5  0.355333  0.074953  0.007495  0.280380  0.430287  1.0005   \n",
       "beta1__6  0.073045  0.073925  0.007393 -0.000881  0.146970  1.0005   \n",
       "beta1__7  0.303209  0.600422  0.060042 -0.297213  0.903631  1.0005   \n",
       "beta1__8  0.035413  0.229690  0.022969 -0.194276  0.265103  1.0005   \n",
       "beta2__0 -0.114549  0.073501  0.007350 -0.188050 -0.041047  1.0005   \n",
       "beta2__1  0.117382  0.056790  0.005679  0.060592  0.174173  1.0005   \n",
       "beta2__2  0.425296  0.413526  0.041353  0.011769  0.838822  1.0005   \n",
       "beta2__3  0.520923  0.073654  0.007365  0.447269  0.594577  1.0005   \n",
       "beta2__4  0.143620  0.410301  0.041030 -0.266681  0.553921  1.0005   \n",
       "beta2__5 -0.091464  0.274998  0.027500 -0.366462  0.183535  1.0005   \n",
       "beta2__6  0.771814  0.083534  0.008353  0.688279  0.855348  1.0005   \n",
       "beta2__7  0.302965  0.350162  0.035016 -0.047196  0.653127  1.0005   \n",
       "beta2__8 -0.139226  0.591500  0.059150 -0.730726  0.452274  1.0005   \n",
       "beta3__0  0.072874  0.598448  0.059845 -0.525574  0.671321  1.0005   \n",
       "beta3__1 -0.320758  0.241789  0.024179 -0.562548 -0.078969  1.0005   \n",
       "beta3__2  0.049348  0.192528  0.019253 -0.143180  0.241876  1.0005   \n",
       "beta3__3  0.017635  0.670172  0.067017 -0.652537  0.687807  1.0005   \n",
       "beta3__4  0.107838  0.190917  0.019092 -0.083079  0.298755  1.0005   \n",
       "beta3__5 -0.301679  0.149979  0.014998 -0.451658 -0.151700  1.0005   \n",
       "beta3__6 -0.552764  0.353984  0.035398 -0.906749 -0.198780  1.0005   \n",
       "beta3__7 -0.426342  0.481450  0.048145 -0.907791  0.055109  1.0005   \n",
       "beta3__8  0.593306  0.300633  0.030063  0.292672  0.893939  1.0005   \n",
       "beta4__0  0.649369  0.192636  0.019264  0.456733  0.842006  1.0005   \n",
       "beta4__1 -0.376246  0.341720  0.034172 -0.717966 -0.034526  1.0005   \n",
       "beta4__2 -0.514321  0.390348  0.039035 -0.904669 -0.123973  1.0005   \n",
       "beta4__3 -0.668382  0.144181  0.014418 -0.812564 -0.524201  1.0005   \n",
       "beta4__4  0.023383  0.714194  0.071419 -0.690811  0.737577  1.0005   \n",
       "beta4__5  0.241309  0.744763  0.074476 -0.503454  0.986072  1.0005   \n",
       "beta4__6  0.170305  0.695482  0.069548 -0.525177  0.865787  1.0005   \n",
       "beta4__7  0.708740  0.110509  0.011051  0.598230  0.819249  1.0005   \n",
       "beta4__8  0.093124  0.441244  0.044124 -0.348120  0.534369  1.0005   \n",
       "beta5__0  0.432133  0.342295  0.034230  0.089838  0.774428  1.0005   \n",
       "beta5__1  0.024638  0.798748  0.079875 -0.774110  0.823387  1.0005   \n",
       "beta5__2  0.328592  0.640205  0.064020 -0.311613  0.968797  1.0005   \n",
       "beta5__3 -0.005395  0.100456  0.010046 -0.105850  0.095061  1.0005   \n",
       "beta5__4  0.795365  0.108611  0.010861  0.686754  0.903976  1.0005   \n",
       "beta5__5  0.537645  0.071092  0.007109  0.466552  0.608737  1.0005   \n",
       "beta5__6 -0.006373  0.934378  0.093438 -0.940751  0.928006  1.0005   \n",
       "beta5__7  0.426511  0.336065  0.033607  0.090445  0.762576  1.0005   \n",
       "beta5__8  0.184033  0.372739  0.037274 -0.188706  0.556773  1.0005   \n",
       "t         1.085234  0.216024  0.021602  0.869210  1.301258  1.0005   \n",
       "\n",
       "                  Rhat  \n",
       "beta0__0  3.308015e+06  \n",
       "beta0__1  3.019801e+06  \n",
       "beta0__2  2.029900e+06  \n",
       "beta0__3  3.443276e+06  \n",
       "beta0__4  5.304184e+05  \n",
       "beta0__5  2.443113e+06  \n",
       "beta0__6  6.218683e+06  \n",
       "beta0__7  3.719866e+06  \n",
       "beta0__8  1.921982e+06  \n",
       "beta1__0  1.096817e+06  \n",
       "beta1__1  2.718239e+06  \n",
       "beta1__2  1.295120e+06  \n",
       "beta1__3  3.095480e+06  \n",
       "beta1__4  2.776818e+06  \n",
       "beta1__5  4.310913e+05  \n",
       "beta1__6  6.791068e+05  \n",
       "beta1__7  4.846517e+06  \n",
       "beta1__8  1.494744e+06  \n",
       "beta2__0  1.447671e+06  \n",
       "beta2__1  5.926784e+05  \n",
       "beta2__2  3.694084e+06  \n",
       "beta2__3  5.256701e+05  \n",
       "beta2__4  5.449819e+06  \n",
       "beta2__5  1.608547e+06  \n",
       "beta2__6  8.974848e+05  \n",
       "beta2__7  4.367819e+06  \n",
       "beta2__8  6.748572e+06  \n",
       "beta3__0  3.927205e+06  \n",
       "beta3__1  2.202041e+06  \n",
       "beta3__2  1.485519e+06  \n",
       "beta3__3  4.856665e+06  \n",
       "beta3__4  1.869431e+06  \n",
       "beta3__5  1.568210e+06  \n",
       "beta3__6  2.160054e+06  \n",
       "beta3__7  3.828169e+06  \n",
       "beta3__8  2.022783e+06  \n",
       "beta4__0  1.638470e+06  \n",
       "beta4__1  1.656703e+06  \n",
       "beta4__2  3.473312e+06  \n",
       "beta4__3  9.323176e+05  \n",
       "beta4__4  6.214713e+06  \n",
       "beta4__5  1.186939e+07  \n",
       "beta4__6  3.295250e+06  \n",
       "beta4__7  1.065547e+06  \n",
       "beta4__8  3.373839e+06  \n",
       "beta5__0  2.814289e+06  \n",
       "beta5__1  7.887696e+06  \n",
       "beta5__2  7.918651e+06  \n",
       "beta5__3  1.057728e+06  \n",
       "beta5__4  1.070152e+06  \n",
       "beta5__5  5.194031e+05  \n",
       "beta5__6  1.258281e+07  \n",
       "beta5__7  1.115744e+06  \n",
       "beta5__8  2.066539e+06  \n",
       "t         4.348206e+06  "
      ]
     },
     "execution_count": 18,
     "metadata": {},
     "output_type": "execute_result"
    }
   ],
   "source": [
    "sal=pm.summary(trace1) \n",
    "sal"
   ]
  },
  {
   "cell_type": "code",
   "execution_count": 19,
   "metadata": {
    "collapsed": false
   },
   "outputs": [
    {
     "data": {
      "text/plain": [
       "array([[<matplotlib.axes._subplots.AxesSubplot object at 0x7f3d11ff5a20>,\n",
       "        <matplotlib.axes._subplots.AxesSubplot object at 0x7f3d11ef2a20>],\n",
       "       [<matplotlib.axes._subplots.AxesSubplot object at 0x7f3d11f1bac8>,\n",
       "        <matplotlib.axes._subplots.AxesSubplot object at 0x7f3d11ebdb70>],\n",
       "       [<matplotlib.axes._subplots.AxesSubplot object at 0x7f3d11eefe10>,\n",
       "        <matplotlib.axes._subplots.AxesSubplot object at 0x7f3d11e9c7f0>],\n",
       "       [<matplotlib.axes._subplots.AxesSubplot object at 0x7f3d11e51828>,\n",
       "        <matplotlib.axes._subplots.AxesSubplot object at 0x7f3d11e078d0>],\n",
       "       [<matplotlib.axes._subplots.AxesSubplot object at 0x7f3d11dbc978>,\n",
       "        <matplotlib.axes._subplots.AxesSubplot object at 0x7f3d11dd5cc0>],\n",
       "       [<matplotlib.axes._subplots.AxesSubplot object at 0x7f3d11da75f8>,\n",
       "        <matplotlib.axes._subplots.AxesSubplot object at 0x7f3d11d3c6a0>],\n",
       "       [<matplotlib.axes._subplots.AxesSubplot object at 0x7f3d11d14668>,\n",
       "        <matplotlib.axes._subplots.AxesSubplot object at 0x7f3d11ccac50>]], dtype=object)"
      ]
     },
     "execution_count": 19,
     "metadata": {},
     "output_type": "execute_result"
    },
    {
     "data": {
      "image/png": "[encoded data removed]",
      "text/plain": [
       "<matplotlib.figure.Figure at 0x7f3d11ffd5f8>"
      ]
     },
     "metadata": {},
     "output_type": "display_data"
    }
   ],
   "source": [
    "pm.traceplot(trace1)"
   ]
  },
  {
   "cell_type": "code",
   "execution_count": 20,
   "metadata": {
    "collapsed": false
   },
   "outputs": [
    {
     "ename": "KeyError",
     "evalue": "'Unknown variable beta6'",
     "output_type": "error",
     "traceback": [
      "\u001b[0;31m---------------------------------------------------------------------------\u001b[0m",
      "\u001b[0;31mKeyError\u001b[0m                                  Traceback (most recent call last)",
      "\u001b[0;32m<ipython-input-20-cdb2e4c2973a>\u001b[0m in \u001b[0;36m<module>\u001b[0;34m()\u001b[0m\n\u001b[1;32m     18\u001b[0m \u001b[0mpm\u001b[0m\u001b[0;34m.\u001b[0m\u001b[0mplot_posterior\u001b[0m\u001b[0;34m(\u001b[0m\u001b[0mtrace1\u001b[0m\u001b[0;34m[\u001b[0m\u001b[0;34m'beta5'\u001b[0m\u001b[0;34m]\u001b[0m\u001b[0;34m[\u001b[0m\u001b[0;34m:\u001b[0m\u001b[0;34m,\u001b[0m\u001b[0;36m1\u001b[0m\u001b[0;34m]\u001b[0m\u001b[0;34m)\u001b[0m\u001b[0;34m\u001b[0m\u001b[0m\n\u001b[1;32m     19\u001b[0m \u001b[0mpm\u001b[0m\u001b[0;34m.\u001b[0m\u001b[0mplot_posterior\u001b[0m\u001b[0;34m(\u001b[0m\u001b[0mtrace1\u001b[0m\u001b[0;34m[\u001b[0m\u001b[0;34m'beta5'\u001b[0m\u001b[0;34m]\u001b[0m\u001b[0;34m[\u001b[0m\u001b[0;34m:\u001b[0m\u001b[0;34m,\u001b[0m\u001b[0;36m2\u001b[0m\u001b[0;34m]\u001b[0m\u001b[0;34m)\u001b[0m\u001b[0;34m\u001b[0m\u001b[0m\n\u001b[0;32m---> 20\u001b[0;31m \u001b[0mpm\u001b[0m\u001b[0;34m.\u001b[0m\u001b[0mplot_posterior\u001b[0m\u001b[0;34m(\u001b[0m\u001b[0mtrace1\u001b[0m\u001b[0;34m[\u001b[0m\u001b[0;34m'beta6'\u001b[0m\u001b[0;34m]\u001b[0m\u001b[0;34m[\u001b[0m\u001b[0;34m:\u001b[0m\u001b[0;34m,\u001b[0m\u001b[0;36m0\u001b[0m\u001b[0;34m]\u001b[0m\u001b[0;34m)\u001b[0m\u001b[0;34m\u001b[0m\u001b[0m\n\u001b[0m\u001b[1;32m     21\u001b[0m \u001b[0mpm\u001b[0m\u001b[0;34m.\u001b[0m\u001b[0mplot_posterior\u001b[0m\u001b[0;34m(\u001b[0m\u001b[0mtrace1\u001b[0m\u001b[0;34m[\u001b[0m\u001b[0;34m'beta6'\u001b[0m\u001b[0;34m]\u001b[0m\u001b[0;34m[\u001b[0m\u001b[0;34m:\u001b[0m\u001b[0;34m,\u001b[0m\u001b[0;36m1\u001b[0m\u001b[0;34m]\u001b[0m\u001b[0;34m)\u001b[0m\u001b[0;34m\u001b[0m\u001b[0m\n\u001b[1;32m     22\u001b[0m \u001b[0mpm\u001b[0m\u001b[0;34m.\u001b[0m\u001b[0mplot_posterior\u001b[0m\u001b[0;34m(\u001b[0m\u001b[0mtrace1\u001b[0m\u001b[0;34m[\u001b[0m\u001b[0;34m'beta6'\u001b[0m\u001b[0;34m]\u001b[0m\u001b[0;34m[\u001b[0m\u001b[0;34m:\u001b[0m\u001b[0;34m,\u001b[0m\u001b[0;36m2\u001b[0m\u001b[0;34m]\u001b[0m\u001b[0;34m)\u001b[0m\u001b[0;34m\u001b[0m\u001b[0m\n",
      "\u001b[0;32m/home/abraham/anaconda3/lib/python3.6/site-packages/pymc3/backends/base.py\u001b[0m in \u001b[0;36m__getitem__\u001b[0;34m(self, idx)\u001b[0m\n\u001b[1;32m    317\u001b[0m         \u001b[0;32mif\u001b[0m \u001b[0mvar\u001b[0m \u001b[0;32min\u001b[0m \u001b[0mself\u001b[0m\u001b[0;34m.\u001b[0m\u001b[0mstat_names\u001b[0m\u001b[0;34m:\u001b[0m\u001b[0;34m\u001b[0m\u001b[0m\n\u001b[1;32m    318\u001b[0m             \u001b[0;32mreturn\u001b[0m \u001b[0mself\u001b[0m\u001b[0;34m.\u001b[0m\u001b[0mget_sampler_stats\u001b[0m\u001b[0;34m(\u001b[0m\u001b[0mvar\u001b[0m\u001b[0;34m,\u001b[0m \u001b[0mburn\u001b[0m\u001b[0;34m=\u001b[0m\u001b[0mburn\u001b[0m\u001b[0;34m,\u001b[0m \u001b[0mthin\u001b[0m\u001b[0;34m=\u001b[0m\u001b[0mthin\u001b[0m\u001b[0;34m)\u001b[0m\u001b[0;34m\u001b[0m\u001b[0m\n\u001b[0;32m--> 319\u001b[0;31m         \u001b[0;32mraise\u001b[0m \u001b[0mKeyError\u001b[0m\u001b[0;34m(\u001b[0m\u001b[0;34m\"Unknown variable %s\"\u001b[0m \u001b[0;34m%\u001b[0m \u001b[0mvar\u001b[0m\u001b[0;34m)\u001b[0m\u001b[0;34m\u001b[0m\u001b[0m\n\u001b[0m\u001b[1;32m    320\u001b[0m \u001b[0;34m\u001b[0m\u001b[0m\n\u001b[1;32m    321\u001b[0m     _attrs = set(['_straces', 'varnames', 'chains', 'stat_names',\n",
      "\u001b[0;31mKeyError\u001b[0m: 'Unknown variable beta6'"
     ]
    },
    {
     "data": {
      "image/png": "[encoded data removed]",
      "text/plain": [
       "<matplotlib.figure.Figure at 0x7f3d11ffd080>"
      ]
     },
     "metadata": {},
     "output_type": "display_data"
    },
    {
     "data": {
      "image/png": "[encoded data removed]",
      "text/plain": [
       "<matplotlib.figure.Figure at 0x7f3d128f6550>"
      ]
     },
     "metadata": {},
     "output_type": "display_data"
    },
    {
     "data": {
      "image/png": "[encoded data removed]",
      "text/plain": [
       "<matplotlib.figure.Figure at 0x7f3d1403a710>"
      ]
     },
     "metadata": {},
     "output_type": "display_data"
    },
    {
     "data": {
      "image/png": "[encoded data removed]",
      "text/plain": [
       "<matplotlib.figure.Figure at 0x7f3d126fba58>"
      ]
     },
     "metadata": {},
     "output_type": "display_data"
    },
    {
     "data": {
      "image/png": "[encoded data removed]",
      "text/plain": [
       "<matplotlib.figure.Figure at 0x7f3d119ebf60>"
      ]
     },
     "metadata": {},
     "output_type": "display_data"
    },
    {
     "data": {
      "image/png": "[encoded data removed]",
      "text/plain": [
       "<matplotlib.figure.Figure at 0x7f3d119ebf28>"
      ]
     },
     "metadata": {},
     "output_type": "display_data"
    },
    {
     "data": {
      "image/png": "[encoded data removed]",
      "text/plain": [
       "<matplotlib.figure.Figure at 0x7f3d118f74e0>"
      ]
     },
     "metadata": {},
     "output_type": "display_data"
    },
    {
     "data": {
      "image/png": "[encoded data removed]",
      "text/plain": [
       "<matplotlib.figure.Figure at 0x7f3d11877898>"
      ]
     },
     "metadata": {},
     "output_type": "display_data"
    },
    {
     "data": {
      "image/png": "[encoded data removed]",
      "text/plain": [
       "<matplotlib.figure.Figure at 0x7f3d117ffa90>"
      ]
     },
     "metadata": {},
     "output_type": "display_data"
    },
    {
     "data": {
      "image/png": "[encoded data removed]",
      "text/plain": [
       "<matplotlib.figure.Figure at 0x7f3d1178a0b8>"
      ]
     },
     "metadata": {},
     "output_type": "display_data"
    },
    {
     "data": {
      "image/png": "[encoded data removed]",
      "text/plain": [
       "<matplotlib.figure.Figure at 0x7f3d103792b0>"
      ]
     },
     "metadata": {},
     "output_type": "display_data"
    },
    {
     "data": {
      "image/png": "[encoded data removed]",
      "text/plain": [
       "<matplotlib.figure.Figure at 0x7f3d102f8898>"
      ]
     },
     "metadata": {},
     "output_type": "display_data"
    },
    {
     "data": {
      "image/png": "[encoded data removed]",
      "text/plain": [
       "<matplotlib.figure.Figure at 0x7f3d10279be0>"
      ]
     },
     "metadata": {},
     "output_type": "display_data"
    },
    {
     "data": {
      "image/png": "[encoded data removed]",
      "text/plain": [
       "<matplotlib.figure.Figure at 0x7f3d10214438>"
      ]
     },
     "metadata": {},
     "output_type": "display_data"
    },
    {
     "data": {
      "image/png": "[encoded data removed]",
      "text/plain": [
       "<matplotlib.figure.Figure at 0x7f3d1012e1d0>"
      ]
     },
     "metadata": {},
     "output_type": "display_data"
    },
    {
     "data": {
      "image/png": "[encoded data removed]",
      "text/plain": [
       "<matplotlib.figure.Figure at 0x7f3d100b2748>"
      ]
     },
     "metadata": {},
     "output_type": "display_data"
    },
    {
     "data": {
      "image/png": "[encoded data removed]",
      "text/plain": [
       "<matplotlib.figure.Figure at 0x7f3d10043da0>"
      ]
     },
     "metadata": {},
     "output_type": "display_data"
    },
    {
     "data": {
      "image/png": "[encoded data removed]",
      "text/plain": [
       "<matplotlib.figure.Figure at 0x7f3d0673a0b8>"
      ]
     },
     "metadata": {},
     "output_type": "display_data"
    }
   ],
   "source": [
    "#'state','cardholder','balance','numTrans','numIntlTrans','creditLine'\n",
    "pm.plot_posterior(trace1['beta0'][:,0])\n",
    "pm.plot_posterior(trace1['beta0'][:,1])\n",
    "pm.plot_posterior(trace1['beta0'][:,2])\n",
    "pm.plot_posterior(trace1['beta1'][:,0])\n",
    "pm.plot_posterior(trace1['beta1'][:,1])\n",
    "pm.plot_posterior(trace1['beta1'][:,1])\n",
    "pm.plot_posterior(trace1['beta2'][:,0])\n",
    "pm.plot_posterior(trace1['beta2'][:,1])\n",
    "pm.plot_posterior(trace1['beta2'][:,2])\n",
    "pm.plot_posterior(trace1['beta3'][:,0])\n",
    "pm.plot_posterior(trace1['beta3'][:,1])\n",
    "pm.plot_posterior(trace1['beta3'][:,2])\n",
    "pm.plot_posterior(trace1['beta4'][:,0])\n",
    "pm.plot_posterior(trace1['beta4'][:,1])\n",
    "pm.plot_posterior(trace1['beta4'][:,2])\n",
    "pm.plot_posterior(trace1['beta5'][:,0])\n",
    "pm.plot_posterior(trace1['beta5'][:,1])\n",
    "pm.plot_posterior(trace1['beta5'][:,2])\n",
    "pm.plot_posterior(trace1['beta6'][:,0])\n",
    "pm.plot_posterior(trace1['beta6'][:,1])\n",
    "pm.plot_posterior(trace1['beta6'][:,2])\n",
    "plt.show()"
   ]
  },
  {
   "cell_type": "code",
   "execution_count": 23,
   "metadata": {
    "collapsed": false
   },
   "outputs": [],
   "source": [
    "from math import*\n",
    "def invlogit(x):\n",
    "    return exp(x) / (1 + exp(x))\n",
    "\n",
    "def predict(zX,clase_idx):\n",
    "    p = trace1['beta0'][:,clase_idx-1].mean() + trace1['beta1'][:,clase_idx-1].mean()*zX[:,0]+trace1['beta2'][:,clase_idx-1].mean()*zX[:,1]+trace1['beta3'][:,clase_idx-1].mean()*zX[:,2]+trace1['beta4'][:,clase_idx-1].mean()*zX[:,3]+trace1['beta5'][:,clase_idx-1].mean()*zX[:,4]#+trace1['beta6'][:,clase_idx-1].mean()*zX[:,5]\n",
    "    p=np.array([invlogit(i) for i in p])\n",
    "    return(p)"
   ]
  },
  {
   "cell_type": "code",
   "execution_count": 24,
   "metadata": {
    "collapsed": false
   },
   "outputs": [
    {
     "data": {
      "text/plain": [
       "array([ 0.48022355,  0.51867083,  0.62763341, ...,  0.80906135,\n",
       "        0.48075352,  0.44743204])"
      ]
     },
     "execution_count": 24,
     "metadata": {},
     "output_type": "execute_result"
    }
   ],
   "source": [
    "pf=predict(X_test,c_test.values)\n",
    "#X_test[0,:]\n",
    "#c_test.values[0]\n",
    "pf"
   ]
  },
  {
   "cell_type": "code",
   "execution_count": 25,
   "metadata": {
    "collapsed": false
   },
   "outputs": [
    {
     "data": {
      "text/plain": [
       "<matplotlib.collections.PathCollection at 0x7f3d06469518>"
      ]
     },
     "execution_count": 25,
     "metadata": {},
     "output_type": "execute_result"
    },
    {
     "data": {
      "image/png": "[encoded data removed]",
      "text/plain": [
       "<matplotlib.figure.Figure at 0x7f3d100324e0>"
      ]
     },
     "metadata": {},
     "output_type": "display_data"
    }
   ],
   "source": [
    "plt.scatter(pf,y_test,color=['red' if i==1 else 'blue' for i in y_test])\n",
    "plt.scatter(pf,y_test,color=['green' if i>=0.5 else 'yellow' for i in pf])\n",
    "#plt.plot(pf,'p',color='red')"
   ]
  },
  {
   "cell_type": "code",
   "execution_count": 26,
   "metadata": {
    "collapsed": false
   },
   "outputs": [
    {
     "data": {
      "text/plain": [
       "0.01247914993513313"
      ]
     },
     "execution_count": 26,
     "metadata": {},
     "output_type": "execute_result"
    }
   ],
   "source": [
    "np.mean(y_test)"
   ]
  },
  {
   "cell_type": "code",
   "execution_count": 27,
   "metadata": {
    "collapsed": false
   },
   "outputs": [
    {
     "name": "stdout",
     "output_type": "stream",
     "text": [
      "             precision    recall  f1-score   support\n",
      "\n",
      "          0       1.00      0.65      0.78     47955\n",
      "          1       0.03      0.75      0.05       606\n",
      "\n",
      "avg / total       0.98      0.65      0.77     48561\n",
      "\n",
      "[[30941 17014]\n",
      " [  154   452]]\n"
     ]
    }
   ],
   "source": [
    "from sklearn.metrics import confusion_matrix,classification_report\n",
    "pred=[1 if i>=0.5 else 0 for i in pf]\n",
    "print(classification_report(y_test,pred))\n",
    "print(confusion_matrix(y_test,pred))"
   ]
  },
  {
   "cell_type": "code",
   "execution_count": 28,
   "metadata": {
    "collapsed": false
   },
   "outputs": [
    {
     "data": {
      "text/plain": [
       "<matplotlib.legend.Legend at 0x7f3d066ac048>"
      ]
     },
     "execution_count": 28,
     "metadata": {},
     "output_type": "execute_result"
    },
    {
     "data": {
      "image/png": "[encoded data removed]",
      "text/plain": [
       "<matplotlib.figure.Figure at 0x7f3d0647b470>"
      ]
     },
     "metadata": {},
     "output_type": "display_data"
    }
   ],
   "source": [
    "plt.hist(np.array([log(i) for i in pf[np.where(y_test==0)]]),color='blue',alpha=0.9)\n",
    "plt.hist(np.array([log(i) for i in pf[np.where(y_test==1)]]),color='red',alpha=0.5)\n",
    "plt.plot([-0.6931471805599453, -0.6931471805599453], [0, 5000], 'r-',label='log-Umbral(proba=0.5)',linewidth=2,color='orange')\n",
    "plt.legend()"
   ]
  },
  {
   "cell_type": "code",
   "execution_count": 204,
   "metadata": {
    "collapsed": false
   },
   "outputs": [
    {
     "data": {
      "text/plain": [
       "-0.6931471805599453"
      ]
     },
     "execution_count": 204,
     "metadata": {},
     "output_type": "execute_result"
    }
   ],
   "source": [
    "log(0.5)"
   ]
  },
  {
   "cell_type": "code",
   "execution_count": 45,
   "metadata": {
    "collapsed": false
   },
   "outputs": [
    {
     "data": {
      "text/plain": [
       "array([0, 0, 0, ..., 0, 0, 0])"
      ]
     },
     "execution_count": 45,
     "metadata": {},
     "output_type": "execute_result"
    }
   ],
   "source": [
    "ppc['likelihood'][0]"
   ]
  },
  {
   "cell_type": "code",
   "execution_count": 19,
   "metadata": {
    "collapsed": false
   },
   "outputs": [
    {
     "name": "stderr",
     "output_type": "stream",
     "text": [
      "100%|██████████| 100/100 [00:06<00:00, 16.55it/s]\n"
     ]
    },
    {
     "ename": "TypeError",
     "evalue": "slice indices must be integers or None or have an __index__ method",
     "output_type": "error",
     "traceback": [
      "\u001b[0;31m---------------------------------------------------------------------------\u001b[0m",
      "\u001b[0;31mTypeError\u001b[0m                                 Traceback (most recent call last)",
      "\u001b[0;32m<ipython-input-19-5c66f8f50af7>\u001b[0m in \u001b[0;36m<module>\u001b[0;34m()\u001b[0m\n\u001b[1;32m      1\u001b[0m \u001b[0;32mimport\u001b[0m \u001b[0mseaborn\u001b[0m \u001b[0;32mas\u001b[0m \u001b[0msns\u001b[0m\u001b[0;34m;\u001b[0m \u001b[0msns\u001b[0m\u001b[0;34m.\u001b[0m\u001b[0mset\u001b[0m\u001b[0;34m(\u001b[0m\u001b[0;34m)\u001b[0m\u001b[0;34m\u001b[0m\u001b[0m\n\u001b[1;32m      2\u001b[0m \u001b[0mppc\u001b[0m\u001b[0;34m=\u001b[0m\u001b[0mpm\u001b[0m\u001b[0;34m.\u001b[0m\u001b[0msample_ppc\u001b[0m\u001b[0;34m(\u001b[0m\u001b[0mtrace1\u001b[0m\u001b[0;34m,\u001b[0m \u001b[0mmodel\u001b[0m\u001b[0;34m=\u001b[0m\u001b[0mmodel_weight\u001b[0m\u001b[0;34m,\u001b[0m \u001b[0msamples\u001b[0m\u001b[0;34m=\u001b[0m\u001b[0;36m100\u001b[0m\u001b[0;34m)\u001b[0m\u001b[0;34m\u001b[0m\u001b[0m\n\u001b[0;32m----> 3\u001b[0;31m \u001b[0msns\u001b[0m\u001b[0;34m.\u001b[0m\u001b[0mkdeplot\u001b[0m\u001b[0;34m(\u001b[0m\u001b[0my\u001b[0m\u001b[0;34m,\u001b[0m\u001b[0mc\u001b[0m\u001b[0;34m=\u001b[0m\u001b[0;34m'b'\u001b[0m\u001b[0;34m)\u001b[0m\u001b[0;34m\u001b[0m\u001b[0m\n\u001b[0m\u001b[1;32m      4\u001b[0m \u001b[0;32mfor\u001b[0m \u001b[0mi\u001b[0m \u001b[0;32min\u001b[0m \u001b[0mrange\u001b[0m\u001b[0;34m(\u001b[0m\u001b[0;36m100\u001b[0m\u001b[0;34m)\u001b[0m\u001b[0;34m:\u001b[0m\u001b[0;34m\u001b[0m\u001b[0m\n\u001b[1;32m      5\u001b[0m     \u001b[0msns\u001b[0m\u001b[0;34m.\u001b[0m\u001b[0mkdeplot\u001b[0m\u001b[0;34m(\u001b[0m\u001b[0mppc\u001b[0m\u001b[0;34m[\u001b[0m\u001b[0;34m'likelihood'\u001b[0m\u001b[0;34m]\u001b[0m\u001b[0;34m[\u001b[0m\u001b[0;34m:\u001b[0m\u001b[0;34m,\u001b[0m\u001b[0mi\u001b[0m\u001b[0;34m]\u001b[0m\u001b[0;34m,\u001b[0m \u001b[0malpha\u001b[0m\u001b[0;34m=\u001b[0m\u001b[0;36m0.1\u001b[0m\u001b[0;34m,\u001b[0m \u001b[0mc\u001b[0m\u001b[0;34m=\u001b[0m\u001b[0;34m'g'\u001b[0m\u001b[0;34m)\u001b[0m\u001b[0;34m\u001b[0m\u001b[0m\n",
      "\u001b[0;32m/home/abraham/anaconda3/lib/python3.6/site-packages/seaborn/distributions.py\u001b[0m in \u001b[0;36mkdeplot\u001b[0;34m(data, data2, shade, vertical, kernel, bw, gridsize, cut, clip, legend, cumulative, shade_lowest, ax, **kwargs)\u001b[0m\n\u001b[1;32m    602\u001b[0m         ax = _univariate_kdeplot(data, shade, vertical, kernel, bw,\n\u001b[1;32m    603\u001b[0m                                  \u001b[0mgridsize\u001b[0m\u001b[0;34m,\u001b[0m \u001b[0mcut\u001b[0m\u001b[0;34m,\u001b[0m \u001b[0mclip\u001b[0m\u001b[0;34m,\u001b[0m \u001b[0mlegend\u001b[0m\u001b[0;34m,\u001b[0m \u001b[0max\u001b[0m\u001b[0;34m,\u001b[0m\u001b[0;34m\u001b[0m\u001b[0m\n\u001b[0;32m--> 604\u001b[0;31m                                  cumulative=cumulative, **kwargs)\n\u001b[0m\u001b[1;32m    605\u001b[0m \u001b[0;34m\u001b[0m\u001b[0m\n\u001b[1;32m    606\u001b[0m     \u001b[0;32mreturn\u001b[0m \u001b[0max\u001b[0m\u001b[0;34m\u001b[0m\u001b[0m\n",
      "\u001b[0;32m/home/abraham/anaconda3/lib/python3.6/site-packages/seaborn/distributions.py\u001b[0m in \u001b[0;36m_univariate_kdeplot\u001b[0;34m(data, shade, vertical, kernel, bw, gridsize, cut, clip, legend, ax, cumulative, **kwargs)\u001b[0m\n\u001b[1;32m    268\u001b[0m         x, y = _statsmodels_univariate_kde(data, kernel, bw,\n\u001b[1;32m    269\u001b[0m                                            \u001b[0mgridsize\u001b[0m\u001b[0;34m,\u001b[0m \u001b[0mcut\u001b[0m\u001b[0;34m,\u001b[0m \u001b[0mclip\u001b[0m\u001b[0;34m,\u001b[0m\u001b[0;34m\u001b[0m\u001b[0m\n\u001b[0;32m--> 270\u001b[0;31m                                            cumulative=cumulative)\n\u001b[0m\u001b[1;32m    271\u001b[0m     \u001b[0;32melse\u001b[0m\u001b[0;34m:\u001b[0m\u001b[0;34m\u001b[0m\u001b[0m\n\u001b[1;32m    272\u001b[0m         \u001b[0;31m# Fall back to scipy if missing statsmodels\u001b[0m\u001b[0;34m\u001b[0m\u001b[0;34m\u001b[0m\u001b[0m\n",
      "\u001b[0;32m/home/abraham/anaconda3/lib/python3.6/site-packages/seaborn/distributions.py\u001b[0m in \u001b[0;36m_statsmodels_univariate_kde\u001b[0;34m(data, kernel, bw, gridsize, cut, clip, cumulative)\u001b[0m\n\u001b[1;32m    326\u001b[0m     \u001b[0mfft\u001b[0m \u001b[0;34m=\u001b[0m \u001b[0mkernel\u001b[0m \u001b[0;34m==\u001b[0m \u001b[0;34m\"gau\"\u001b[0m\u001b[0;34m\u001b[0m\u001b[0m\n\u001b[1;32m    327\u001b[0m     \u001b[0mkde\u001b[0m \u001b[0;34m=\u001b[0m \u001b[0msmnp\u001b[0m\u001b[0;34m.\u001b[0m\u001b[0mKDEUnivariate\u001b[0m\u001b[0;34m(\u001b[0m\u001b[0mdata\u001b[0m\u001b[0;34m)\u001b[0m\u001b[0;34m\u001b[0m\u001b[0m\n\u001b[0;32m--> 328\u001b[0;31m     \u001b[0mkde\u001b[0m\u001b[0;34m.\u001b[0m\u001b[0mfit\u001b[0m\u001b[0;34m(\u001b[0m\u001b[0mkernel\u001b[0m\u001b[0;34m,\u001b[0m \u001b[0mbw\u001b[0m\u001b[0;34m,\u001b[0m \u001b[0mfft\u001b[0m\u001b[0;34m,\u001b[0m \u001b[0mgridsize\u001b[0m\u001b[0;34m=\u001b[0m\u001b[0mgridsize\u001b[0m\u001b[0;34m,\u001b[0m \u001b[0mcut\u001b[0m\u001b[0;34m=\u001b[0m\u001b[0mcut\u001b[0m\u001b[0;34m,\u001b[0m \u001b[0mclip\u001b[0m\u001b[0;34m=\u001b[0m\u001b[0mclip\u001b[0m\u001b[0;34m)\u001b[0m\u001b[0;34m\u001b[0m\u001b[0m\n\u001b[0m\u001b[1;32m    329\u001b[0m     \u001b[0;32mif\u001b[0m \u001b[0mcumulative\u001b[0m\u001b[0;34m:\u001b[0m\u001b[0;34m\u001b[0m\u001b[0m\n\u001b[1;32m    330\u001b[0m         \u001b[0mgrid\u001b[0m\u001b[0;34m,\u001b[0m \u001b[0my\u001b[0m \u001b[0;34m=\u001b[0m \u001b[0mkde\u001b[0m\u001b[0;34m.\u001b[0m\u001b[0msupport\u001b[0m\u001b[0;34m,\u001b[0m \u001b[0mkde\u001b[0m\u001b[0;34m.\u001b[0m\u001b[0mcdf\u001b[0m\u001b[0;34m\u001b[0m\u001b[0m\n",
      "\u001b[0;32m/home/abraham/anaconda3/lib/python3.6/site-packages/statsmodels/nonparametric/kde.py\u001b[0m in \u001b[0;36mfit\u001b[0;34m(self, kernel, bw, fft, weights, gridsize, adjust, cut, clip)\u001b[0m\n\u001b[1;32m    144\u001b[0m             density, grid, bw = kdensityfft(endog, kernel=kernel, bw=bw,\n\u001b[1;32m    145\u001b[0m                     \u001b[0madjust\u001b[0m\u001b[0;34m=\u001b[0m\u001b[0madjust\u001b[0m\u001b[0;34m,\u001b[0m \u001b[0mweights\u001b[0m\u001b[0;34m=\u001b[0m\u001b[0mweights\u001b[0m\u001b[0;34m,\u001b[0m \u001b[0mgridsize\u001b[0m\u001b[0;34m=\u001b[0m\u001b[0mgridsize\u001b[0m\u001b[0;34m,\u001b[0m\u001b[0;34m\u001b[0m\u001b[0m\n\u001b[0;32m--> 146\u001b[0;31m                     clip=clip, cut=cut)\n\u001b[0m\u001b[1;32m    147\u001b[0m         \u001b[0;32melse\u001b[0m\u001b[0;34m:\u001b[0m\u001b[0;34m\u001b[0m\u001b[0m\n\u001b[1;32m    148\u001b[0m             density, grid, bw = kdensity(endog, kernel=kernel, bw=bw,\n",
      "\u001b[0;32m/home/abraham/anaconda3/lib/python3.6/site-packages/statsmodels/nonparametric/kde.py\u001b[0m in \u001b[0;36mkdensityfft\u001b[0;34m(X, kernel, bw, weights, gridsize, adjust, clip, cut, retgrid)\u001b[0m\n\u001b[1;32m    504\u001b[0m     \u001b[0mzstar\u001b[0m \u001b[0;34m=\u001b[0m \u001b[0msilverman_transform\u001b[0m\u001b[0;34m(\u001b[0m\u001b[0mbw\u001b[0m\u001b[0;34m,\u001b[0m \u001b[0mgridsize\u001b[0m\u001b[0;34m,\u001b[0m \u001b[0mRANGE\u001b[0m\u001b[0;34m)\u001b[0m\u001b[0;34m*\u001b[0m\u001b[0my\u001b[0m \u001b[0;31m# 3.49 in Silverman\u001b[0m\u001b[0;34m\u001b[0m\u001b[0m\n\u001b[1;32m    505\u001b[0m                                                    \u001b[0;31m# 3.50 w Gaussian kernel\u001b[0m\u001b[0;34m\u001b[0m\u001b[0;34m\u001b[0m\u001b[0m\n\u001b[0;32m--> 506\u001b[0;31m     \u001b[0mf\u001b[0m \u001b[0;34m=\u001b[0m \u001b[0mrevrt\u001b[0m\u001b[0;34m(\u001b[0m\u001b[0mzstar\u001b[0m\u001b[0;34m)\u001b[0m\u001b[0;34m\u001b[0m\u001b[0m\n\u001b[0m\u001b[1;32m    507\u001b[0m     \u001b[0;32mif\u001b[0m \u001b[0mretgrid\u001b[0m\u001b[0;34m:\u001b[0m\u001b[0;34m\u001b[0m\u001b[0m\n\u001b[1;32m    508\u001b[0m         \u001b[0;32mreturn\u001b[0m \u001b[0mf\u001b[0m\u001b[0;34m,\u001b[0m \u001b[0mgrid\u001b[0m\u001b[0;34m,\u001b[0m \u001b[0mbw\u001b[0m\u001b[0;34m\u001b[0m\u001b[0m\n",
      "\u001b[0;32m/home/abraham/anaconda3/lib/python3.6/site-packages/statsmodels/nonparametric/kdetools.py\u001b[0m in \u001b[0;36mrevrt\u001b[0;34m(X, m)\u001b[0m\n\u001b[1;32m     18\u001b[0m     \u001b[0;32mif\u001b[0m \u001b[0mm\u001b[0m \u001b[0;32mis\u001b[0m \u001b[0;32mNone\u001b[0m\u001b[0;34m:\u001b[0m\u001b[0;34m\u001b[0m\u001b[0m\n\u001b[1;32m     19\u001b[0m         \u001b[0mm\u001b[0m \u001b[0;34m=\u001b[0m \u001b[0mlen\u001b[0m\u001b[0;34m(\u001b[0m\u001b[0mX\u001b[0m\u001b[0;34m)\u001b[0m\u001b[0;34m\u001b[0m\u001b[0m\n\u001b[0;32m---> 20\u001b[0;31m     \u001b[0my\u001b[0m \u001b[0;34m=\u001b[0m \u001b[0mX\u001b[0m\u001b[0;34m[\u001b[0m\u001b[0;34m:\u001b[0m\u001b[0mm\u001b[0m\u001b[0;34m/\u001b[0m\u001b[0;36m2\u001b[0m\u001b[0;34m+\u001b[0m\u001b[0;36m1\u001b[0m\u001b[0;34m]\u001b[0m \u001b[0;34m+\u001b[0m \u001b[0mnp\u001b[0m\u001b[0;34m.\u001b[0m\u001b[0mr_\u001b[0m\u001b[0;34m[\u001b[0m\u001b[0;36m0\u001b[0m\u001b[0;34m,\u001b[0m\u001b[0mX\u001b[0m\u001b[0;34m[\u001b[0m\u001b[0mm\u001b[0m\u001b[0;34m/\u001b[0m\u001b[0;36m2\u001b[0m\u001b[0;34m+\u001b[0m\u001b[0;36m1\u001b[0m\u001b[0;34m:\u001b[0m\u001b[0;34m]\u001b[0m\u001b[0;34m,\u001b[0m\u001b[0;36m0\u001b[0m\u001b[0;34m]\u001b[0m\u001b[0;34m*\u001b[0m\u001b[0;36m1j\u001b[0m\u001b[0;34m\u001b[0m\u001b[0m\n\u001b[0m\u001b[1;32m     21\u001b[0m     \u001b[0;32mreturn\u001b[0m \u001b[0mnp\u001b[0m\u001b[0;34m.\u001b[0m\u001b[0mfft\u001b[0m\u001b[0;34m.\u001b[0m\u001b[0mirfft\u001b[0m\u001b[0;34m(\u001b[0m\u001b[0my\u001b[0m\u001b[0;34m)\u001b[0m\u001b[0;34m*\u001b[0m\u001b[0mm\u001b[0m\u001b[0;34m\u001b[0m\u001b[0m\n\u001b[1;32m     22\u001b[0m \u001b[0;34m\u001b[0m\u001b[0m\n",
      "\u001b[0;31mTypeError\u001b[0m: slice indices must be integers or None or have an __index__ method"
     ]
    },
    {
     "data": {
      "image/png": "[encoded data removed]",
      "text/plain": [
       "<matplotlib.figure.Figure at 0x7fed97a1f4e0>"
      ]
     },
     "metadata": {},
     "output_type": "display_data"
    }
   ],
   "source": [
    "import seaborn as sns; sns.set()\n",
    "ppc=pm.sample_ppc(trace1, model=model_weight, samples=100)\n",
    "sns.kdeplot(y,c='b')\n",
    "for i in range(100):\n",
    "    sns.kdeplot(ppc['likelihood'][:,i], alpha=0.1, c='g')"
   ]
  },
  {
   "cell_type": "code",
   "execution_count": 66,
   "metadata": {
    "collapsed": false
   },
   "outputs": [
    {
     "data": {
      "text/plain": [
       "<matplotlib.lines.Line2D at 0x7f0fb6976748>"
      ]
     },
     "execution_count": 66,
     "metadata": {},
     "output_type": "execute_result"
    },
    {
     "data": {
      "image/png": "[encoded data removed]",
      "text/plain": [
       "<matplotlib.figure.Figure at 0x7f0fb6a20c88>"
      ]
     },
     "metadata": {},
     "output_type": "display_data"
    }
   ],
   "source": [
    "# Transform parameters back to original scale\n",
    "beta0 = trace1['beta0'] - trace1['zbetaj']*meanx[1]/scalex[1]\n",
    "betaj = (trace1['betaj']/scalex[1])\n",
    "\n",
    "plt.figure(figsize=(10,10))\n",
    "# Define gridspec\n",
    "gs = gridspec.GridSpec(3, 4)\n",
    "ax1 = plt.subplot(gs[:2,:4])\n",
    "ax2 = plt.subplot(gs[2,:2])\n",
    "ax3 = plt.subplot(gs[2,2:])\n",
    "\n",
    "ax1.scatter(df.numTrans, df.fraudRisk, s=100, edgecolor='k', facecolors='None', lw=1)\n",
    "\n",
    "# Take 20 values from the posterior distribution and plot the lines\n",
    "n_curves = 20\n",
    "tr_len = len(trace1)\n",
    "stepIdxVec = np.arange(0, tr_len, tr_len//n_curves)\n",
    "weight_span = np.arange(df.numTrans.min(), df.numTrans.max())\n",
    "weights = np.tile(weight_span.reshape(-1,1), (1,n_curves))\n",
    "# The expit function from scipy.special calculates the inverse of the logit function\n",
    "p = expit(beta0[stepIdxVec] + betaj[stepIdxVec]*weights)\n",
    "ax1.plot(weights, p, c=color)\n",
    "\n",
    "ax1.axhline(y=0.5, color='k', linestyle='dotted')\n",
    "\n"
   ]
  },
  {
   "cell_type": "code",
   "execution_count": 71,
   "metadata": {
    "collapsed": false
   },
   "outputs": [
    {
     "data": {
      "text/plain": [
       "<matplotlib.figure.Figure at 0x7f0fb4a6f160>"
      ]
     },
     "metadata": {},
     "output_type": "display_data"
    }
   ],
   "source": [
    "# Look up weights for which of the posterior probabilities is (close to) 0.5\n",
    "decision_boundary = weight_span[np.any(np.isclose(p, 0.1, atol=0.01), axis=1)]\n",
    "# Highlight the weightspan\n",
    "ax1.axvspan(decision_boundary.min(), decision_boundary.max(),\n",
    "            0, 0.5, color=color, alpha=0.3)\n",
    "\n",
    "ax1.set_xlabel('numTrans')\n",
    "ax1.set_ylabel('fraudRisk')\n",
    "ax1.set_title('Data with Post. Pred.')\n",
    "\n",
    "pm.plot_posterior(beta0, point_estimate='mode', ax=ax2, color=color)\n",
    "ax2.set_title('Intercept', fontdict=f_dict)\n",
    "ax2.set_xlabel(r'$\\beta_0$', fontdict=f_dict)\n",
    "\n",
    "pm.plot_posterior(betaj, point_estimate='mode', ax=ax3, color=color)\n",
    "ax3.set_title('numTrans', fontdict=f_dict)\n",
    "ax3.set_xlabel(r'$\\beta_1$', fontdict=f_dict);\n",
    "\n",
    "plt.tight_layout();"
   ]
  },
  {
   "cell_type": "code",
   "execution_count": 77,
   "metadata": {
    "collapsed": false
   },
   "outputs": [
    {
     "ename": "AttributeError",
     "evalue": "module 'pydot' has no attribute 'find_graphviz'",
     "output_type": "error",
     "traceback": [
      "\u001b[0;31m---------------------------------------------------------------------------\u001b[0m",
      "\u001b[0;31mAttributeError\u001b[0m                            Traceback (most recent call last)",
      "\u001b[0;32m<ipython-input-77-887c45db3217>\u001b[0m in \u001b[0;36m<module>\u001b[0;34m()\u001b[0m\n\u001b[1;32m      1\u001b[0m \u001b[0;32mimport\u001b[0m \u001b[0mpydot\u001b[0m\u001b[0;34m\u001b[0m\u001b[0m\n\u001b[1;32m      2\u001b[0m \u001b[0;32mfrom\u001b[0m \u001b[0mpydot\u001b[0m \u001b[0;32mimport\u001b[0m\u001b[0;34m*\u001b[0m\u001b[0;34m\u001b[0m\u001b[0m\n\u001b[0;32m----> 3\u001b[0;31m \u001b[0mprint\u001b[0m \u001b[0;34m(\u001b[0m\u001b[0mpydot\u001b[0m\u001b[0;34m.\u001b[0m\u001b[0mfind_graphviz\u001b[0m\u001b[0;34m(\u001b[0m\u001b[0;34m)\u001b[0m\u001b[0;34m)\u001b[0m\u001b[0;34m\u001b[0m\u001b[0m\n\u001b[0m",
      "\u001b[0;31mAttributeError\u001b[0m: module 'pydot' has no attribute 'find_graphviz'"
     ]
    }
   ],
   "source": [
    "import pydot\n",
    "from pydot import*\n",
    "print (pydot.find_graphviz())"
   ]
  },
  {
   "cell_type": "code",
   "execution_count": null,
   "metadata": {
    "collapsed": true
   },
   "outputs": [],
   "source": []
  }
 ],
 "metadata": {
  "kernelspec": {
   "display_name": "Python 3",
   "language": "python",
   "name": "python3"
  },
  "language_info": {
   "codemirror_mode": {
    "name": "ipython",
    "version": 3
   },
   "file_extension": ".py",
   "mimetype": "text/x-python",
   "name": "python",
   "nbconvert_exporter": "python",
   "pygments_lexer": "ipython3",
   "version": "3.6.0"
  }
 },
 "nbformat": 4,
 "nbformat_minor": 2
}
